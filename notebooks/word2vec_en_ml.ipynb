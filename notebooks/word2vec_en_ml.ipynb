{
 "cells": [
  {
   "cell_type": "code",
   "execution_count": 1,
   "id": "db3926d8",
   "metadata": {},
   "outputs": [
    {
     "name": "stderr",
     "output_type": "stream",
     "text": [
      "2023-01-02 14:11:33.171049: I tensorflow/core/platform/cpu_feature_guard.cc:193] This TensorFlow binary is optimized with oneAPI Deep Neural Network Library (oneDNN) to use the following CPU instructions in performance-critical operations:  AVX2 FMA\n",
      "To enable them in other operations, rebuild TensorFlow with the appropriate compiler flags.\n"
     ]
    }
   ],
   "source": [
    "import os\n",
    "import sys\n",
    "module_path = os.path.abspath(os.path.join('..'))\n",
    "if module_path not in sys.path:\n",
    "    sys.path.append(module_path)\n",
    "    \n",
    "from my_nlp_module.preprocessing import preprocess_bbc_to_dict, PrepOption\n",
    "\n",
    "import numpy as np\n",
    "import pandas as pd\n",
    "from gensim.models import KeyedVectors\n",
    "import nltk\n",
    "import re\n",
    "from sklearn.model_selection import GridSearchCV\n",
    "from sklearn.tree import DecisionTreeClassifier\n",
    "from sklearn.svm import SVC\n",
    "from tensorflow.keras.preprocessing.sequence import pad_sequences\n",
    "import gc\n",
    "import os\n",
    "from my_nlp_module.tokenizer import Tokenizer\n",
    "from my_nlp_module.metrics import Metrics\n",
    "from collections import Counter\n",
    "\n",
    "label_to_class = {\n",
    "    \"business\": 0,\n",
    "    \"entertainment\": 1,\n",
    "    \"politics\": 2,\n",
    "    \"sport\": 3,\n",
    "    \"tech\": 4\n",
    "}\n",
    "\n",
    "path_to_model = \"../pretrained_models/40/model.bin\"\n",
    "model = KeyedVectors.load_word2vec_format(path_to_model, binary=True)\n",
    "embed_dim = model.vector_size"
   ]
  },
  {
   "cell_type": "code",
   "execution_count": 2,
   "id": "a58f39ad",
   "metadata": {},
   "outputs": [],
   "source": [
    "def mean_doc_vector(document, embed_dim, embed_matrix):\n",
    "    result = np.zeros(embed_dim,)\n",
    "    for token in document:\n",
    "        if token != 0:\n",
    "            result += embed_matrix[token]\n",
    "    result /= len(document)\n",
    "    return result"
   ]
  },
  {
   "cell_type": "code",
   "execution_count": 3,
   "id": "d0a0b59e",
   "metadata": {},
   "outputs": [
    {
     "name": "stdout",
     "output_type": "stream",
     "text": [
      "Couldn't read 1 files:\n",
      "../datasets/bbc-text/train/sport/199.txt\n",
      "\n",
      "Couldn't read 0 files:\n",
      "\n"
     ]
    }
   ],
   "source": [
    "dataset_train_path = \"../datasets/bbc-text/train\"\n",
    "dataset_test_path = \"../datasets/bbc-text/test\"\n",
    "\n",
    "#options = [PrepOption.STOPWORDS, PrepOption.LOWERCASE, PrepOption.LEMMA, \n",
    "#           PrepOption.NUMBERS, PrepOption.RUBBISH, PrepOption.INTERPUNCTION]\n",
    "options = [PrepOption.NUMBERS, PrepOption.RUBBISH, PrepOption.INTERPUNCTION]\n",
    "preprocessed_train = preprocess_bbc_to_dict(dataset_train_path, options)\n",
    "preprocessed_test = preprocess_bbc_to_dict(dataset_test_path, options)\n",
    "\n",
    "documents_train = []\n",
    "documents_test = []\n",
    "labels_train = []\n",
    "labels_test = []\n",
    "\n",
    "for key in preprocessed_train.keys():\n",
    "    for doc in preprocessed_train[key]:\n",
    "        documents_train.append(doc)\n",
    "        labels_train.append(label_to_class[key])\n",
    "    for doc in preprocessed_test[key]:\n",
    "        documents_test.append(doc)\n",
    "        labels_test.append(label_to_class[key])\n",
    "        \n",
    "df_train = pd.DataFrame({\"document\": documents_train, \"label\": labels_train})\n",
    "df_train = df_train.sample(frac=1, axis=0).reset_index(drop=True)\n",
    "\n",
    "df_test = pd.DataFrame({\"document\": documents_test, \"label\": labels_test})\n",
    "df_test = df_test.sample(frac=1, axis=0).reset_index(drop=True)"
   ]
  },
  {
   "cell_type": "code",
   "execution_count": 4,
   "id": "2400fd84",
   "metadata": {},
   "outputs": [
    {
     "name": "stdout",
     "output_type": "stream",
     "text": [
      "number of words 8001\n"
     ]
    }
   ],
   "source": [
    "MAX_WORDS = 8000\n",
    "tok = Tokenizer(MAX_WORDS)\n",
    "tok.fit(list(df_train['document']))\n",
    "vocab_size = len(tok.vocab) + 1\n",
    "\n",
    "embed_matrix=np.zeros(shape=(vocab_size,embed_dim))\n",
    "for word,i in tok.vocab.items():\n",
    "    try:\n",
    "        embed_vector=model[word]\n",
    "        embed_matrix[i]=embed_vector\n",
    "    except KeyError:\n",
    "        continue\n",
    "\n",
    "print(f\"number of words {vocab_size}\")"
   ]
  },
  {
   "cell_type": "code",
   "execution_count": 5,
   "id": "ad48c9a7",
   "metadata": {},
   "outputs": [
    {
     "name": "stdout",
     "output_type": "stream",
     "text": [
      "Maksymalna długość dokumentu: 470\n",
      "Kształt macierzy dokumentów treningowych: (1999, 470)\n",
      "Kształt macierzy dokumentów testowych: (225, 470)\n"
     ]
    }
   ],
   "source": [
    "encoded_train = tok.texts_to_sequences(list(df_train['document']))\n",
    "encoded_test = tok.texts_to_sequences(list(df_test['document']))\n",
    "\n",
    "lengths = []\n",
    "m = -1\n",
    "for doc in encoded_train:\n",
    "    lengths.append(len(doc))\n",
    "lengths = np.array(lengths)\n",
    "mean = np.mean(lengths)\n",
    "std = np.std(lengths)\n",
    "max_doc_len = int(mean + std/2)\n",
    "\n",
    "print(f\"Maksymalna długość dokumentu: {max_doc_len}\")\n",
    "pad_docs_train = pad_sequences(encoded_train, maxlen=max_doc_len, padding='post')\n",
    "pad_docs_test = pad_sequences(encoded_test, maxlen=max_doc_len, padding='post')\n",
    "print(f\"Kształt macierzy dokumentów treningowych: {pad_docs_train.shape}\")\n",
    "print(f\"Kształt macierzy dokumentów testowych: {pad_docs_test.shape}\")"
   ]
  },
  {
   "cell_type": "code",
   "execution_count": 6,
   "id": "1635c346",
   "metadata": {},
   "outputs": [
    {
     "name": "stdout",
     "output_type": "stream",
     "text": [
      "Kształt wektorów treningowych: (1999, 100)\n",
      "Kształt wektorów testowych: (225, 100)\n"
     ]
    }
   ],
   "source": [
    "seq_vectors_train = np.asarray([mean_doc_vector(pad_docs_train[i], embed_dim, embed_matrix) \\\n",
    "                                for i in range(pad_docs_train.shape[0])])\n",
    "seq_vectors_test = np.asarray([mean_doc_vector(pad_docs_test[i], embed_dim, embed_matrix) \\\n",
    "                                for i in range(pad_docs_test.shape[0])])\n",
    "print(f\"Kształt wektorów treningowych: {seq_vectors_train.shape}\\n\"\\\n",
    "     f\"Kształt wektorów testowych: {seq_vectors_test.shape}\")"
   ]
  },
  {
   "cell_type": "code",
   "execution_count": 7,
   "id": "96e1f7e1",
   "metadata": {},
   "outputs": [
    {
     "name": "stdout",
     "output_type": "stream",
     "text": [
      "Kształ danych treningowych po zmianie ilości:\n",
      "(1774, 100)\n",
      "(1774,)\n",
      "\n",
      "Kształ danych testowych po zmianie ilości:\n",
      "(450, 100)\n",
      "(450,)\n",
      "\n",
      "Podział na klasy zbioru treningowego: Counter({3: 409, 0: 407, 2: 323, 4: 323, 1: 312})\n",
      "\n",
      "Podział na klasy zbioru testowego: Counter({0: 103, 3: 101, 2: 94, 4: 78, 1: 74})\n"
     ]
    }
   ],
   "source": [
    "x_train = seq_vectors_train[:-225, :]\n",
    "y_train = np.array(df_train['label'])[:-225]\n",
    "\n",
    "x_test = np.concatenate((seq_vectors_test, seq_vectors_train[-225:, :]), axis=0)\n",
    "y_test = np.concatenate((np.array(df_test['label']), np.array(df_train['label'])[-225:]), axis=0)\n",
    "\n",
    "print(\"Kształ danych treningowych po zmianie ilości:\")\n",
    "print(x_train.shape)\n",
    "print(y_train.shape)\n",
    "\n",
    "print(\"\\nKształ danych testowych po zmianie ilości:\")\n",
    "print(x_test.shape)\n",
    "print(y_test.shape)\n",
    "\n",
    "print(f\"\\nPodział na klasy zbioru treningowego: {Counter(y_train)}\")\n",
    "print(f\"\\nPodział na klasy zbioru testowego: {Counter(y_test)}\")"
   ]
  },
  {
   "cell_type": "code",
   "execution_count": 8,
   "id": "fc6e9293",
   "metadata": {},
   "outputs": [
    {
     "data": {
      "text/html": [
       "<style>#sk-container-id-1 {color: black;background-color: white;}#sk-container-id-1 pre{padding: 0;}#sk-container-id-1 div.sk-toggleable {background-color: white;}#sk-container-id-1 label.sk-toggleable__label {cursor: pointer;display: block;width: 100%;margin-bottom: 0;padding: 0.3em;box-sizing: border-box;text-align: center;}#sk-container-id-1 label.sk-toggleable__label-arrow:before {content: \"▸\";float: left;margin-right: 0.25em;color: #696969;}#sk-container-id-1 label.sk-toggleable__label-arrow:hover:before {color: black;}#sk-container-id-1 div.sk-estimator:hover label.sk-toggleable__label-arrow:before {color: black;}#sk-container-id-1 div.sk-toggleable__content {max-height: 0;max-width: 0;overflow: hidden;text-align: left;background-color: #f0f8ff;}#sk-container-id-1 div.sk-toggleable__content pre {margin: 0.2em;color: black;border-radius: 0.25em;background-color: #f0f8ff;}#sk-container-id-1 input.sk-toggleable__control:checked~div.sk-toggleable__content {max-height: 200px;max-width: 100%;overflow: auto;}#sk-container-id-1 input.sk-toggleable__control:checked~label.sk-toggleable__label-arrow:before {content: \"▾\";}#sk-container-id-1 div.sk-estimator input.sk-toggleable__control:checked~label.sk-toggleable__label {background-color: #d4ebff;}#sk-container-id-1 div.sk-label input.sk-toggleable__control:checked~label.sk-toggleable__label {background-color: #d4ebff;}#sk-container-id-1 input.sk-hidden--visually {border: 0;clip: rect(1px 1px 1px 1px);clip: rect(1px, 1px, 1px, 1px);height: 1px;margin: -1px;overflow: hidden;padding: 0;position: absolute;width: 1px;}#sk-container-id-1 div.sk-estimator {font-family: monospace;background-color: #f0f8ff;border: 1px dotted black;border-radius: 0.25em;box-sizing: border-box;margin-bottom: 0.5em;}#sk-container-id-1 div.sk-estimator:hover {background-color: #d4ebff;}#sk-container-id-1 div.sk-parallel-item::after {content: \"\";width: 100%;border-bottom: 1px solid gray;flex-grow: 1;}#sk-container-id-1 div.sk-label:hover label.sk-toggleable__label {background-color: #d4ebff;}#sk-container-id-1 div.sk-serial::before {content: \"\";position: absolute;border-left: 1px solid gray;box-sizing: border-box;top: 0;bottom: 0;left: 50%;z-index: 0;}#sk-container-id-1 div.sk-serial {display: flex;flex-direction: column;align-items: center;background-color: white;padding-right: 0.2em;padding-left: 0.2em;position: relative;}#sk-container-id-1 div.sk-item {position: relative;z-index: 1;}#sk-container-id-1 div.sk-parallel {display: flex;align-items: stretch;justify-content: center;background-color: white;position: relative;}#sk-container-id-1 div.sk-item::before, #sk-container-id-1 div.sk-parallel-item::before {content: \"\";position: absolute;border-left: 1px solid gray;box-sizing: border-box;top: 0;bottom: 0;left: 50%;z-index: -1;}#sk-container-id-1 div.sk-parallel-item {display: flex;flex-direction: column;z-index: 1;position: relative;background-color: white;}#sk-container-id-1 div.sk-parallel-item:first-child::after {align-self: flex-end;width: 50%;}#sk-container-id-1 div.sk-parallel-item:last-child::after {align-self: flex-start;width: 50%;}#sk-container-id-1 div.sk-parallel-item:only-child::after {width: 0;}#sk-container-id-1 div.sk-dashed-wrapped {border: 1px dashed gray;margin: 0 0.4em 0.5em 0.4em;box-sizing: border-box;padding-bottom: 0.4em;background-color: white;}#sk-container-id-1 div.sk-label label {font-family: monospace;font-weight: bold;display: inline-block;line-height: 1.2em;}#sk-container-id-1 div.sk-label-container {text-align: center;}#sk-container-id-1 div.sk-container {/* jupyter's `normalize.less` sets `[hidden] { display: none; }` but bootstrap.min.css set `[hidden] { display: none !important; }` so we also need the `!important` here to be able to override the default hidden behavior on the sphinx rendered scikit-learn.org. See: https://github.com/scikit-learn/scikit-learn/issues/21755 */display: inline-block !important;position: relative;}#sk-container-id-1 div.sk-text-repr-fallback {display: none;}</style><div id=\"sk-container-id-1\" class=\"sk-top-container\"><div class=\"sk-text-repr-fallback\"><pre>GridSearchCV(estimator=SVC(),\n",
       "             param_grid={&#x27;C&#x27;: [0.1, 1, 10], &#x27;degree&#x27;: [3, 4],\n",
       "                         &#x27;kernel&#x27;: [&#x27;poly&#x27;, &#x27;rbf&#x27;, &#x27;sigmoid&#x27;]},\n",
       "             scoring=&#x27;accuracy&#x27;)</pre><b>In a Jupyter environment, please rerun this cell to show the HTML representation or trust the notebook. <br />On GitHub, the HTML representation is unable to render, please try loading this page with nbviewer.org.</b></div><div class=\"sk-container\" hidden><div class=\"sk-item sk-dashed-wrapped\"><div class=\"sk-label-container\"><div class=\"sk-label sk-toggleable\"><input class=\"sk-toggleable__control sk-hidden--visually\" id=\"sk-estimator-id-1\" type=\"checkbox\" ><label for=\"sk-estimator-id-1\" class=\"sk-toggleable__label sk-toggleable__label-arrow\">GridSearchCV</label><div class=\"sk-toggleable__content\"><pre>GridSearchCV(estimator=SVC(),\n",
       "             param_grid={&#x27;C&#x27;: [0.1, 1, 10], &#x27;degree&#x27;: [3, 4],\n",
       "                         &#x27;kernel&#x27;: [&#x27;poly&#x27;, &#x27;rbf&#x27;, &#x27;sigmoid&#x27;]},\n",
       "             scoring=&#x27;accuracy&#x27;)</pre></div></div></div><div class=\"sk-parallel\"><div class=\"sk-parallel-item\"><div class=\"sk-item\"><div class=\"sk-label-container\"><div class=\"sk-label sk-toggleable\"><input class=\"sk-toggleable__control sk-hidden--visually\" id=\"sk-estimator-id-2\" type=\"checkbox\" ><label for=\"sk-estimator-id-2\" class=\"sk-toggleable__label sk-toggleable__label-arrow\">estimator: SVC</label><div class=\"sk-toggleable__content\"><pre>SVC()</pre></div></div></div><div class=\"sk-serial\"><div class=\"sk-item\"><div class=\"sk-estimator sk-toggleable\"><input class=\"sk-toggleable__control sk-hidden--visually\" id=\"sk-estimator-id-3\" type=\"checkbox\" ><label for=\"sk-estimator-id-3\" class=\"sk-toggleable__label sk-toggleable__label-arrow\">SVC</label><div class=\"sk-toggleable__content\"><pre>SVC()</pre></div></div></div></div></div></div></div></div></div></div>"
      ],
      "text/plain": [
       "GridSearchCV(estimator=SVC(),\n",
       "             param_grid={'C': [0.1, 1, 10], 'degree': [3, 4],\n",
       "                         'kernel': ['poly', 'rbf', 'sigmoid']},\n",
       "             scoring='accuracy')"
      ]
     },
     "execution_count": 8,
     "metadata": {},
     "output_type": "execute_result"
    }
   ],
   "source": [
    "parameters = {'kernel':['poly', 'rbf', 'sigmoid'], 'C':[0.1, 1, 10], 'degree':[3, 4]}\n",
    "svc = SVC()\n",
    "svc_grid = GridSearchCV(svc, parameters, scoring='accuracy')\n",
    "svc_grid.fit(x_train,y_train)"
   ]
  },
  {
   "cell_type": "code",
   "execution_count": 9,
   "id": "9f0e26a8",
   "metadata": {},
   "outputs": [
    {
     "name": "stdout",
     "output_type": "stream",
     "text": [
      "Najlepsze znalezione parametry dla SVC:\n",
      "{'C': 10, 'degree': 3, 'kernel': 'rbf'}\n",
      "\n",
      "Wynik na zbiorze treningowym dla SVC: 0.9605363252964112\n",
      "\n",
      "Metryki dla zbioru testowego dla klasyfikatora SVC\n",
      "Dokładność: 0.9577777777777777\n",
      "Precyzja: [0.93396226 0.96       0.95604396 0.95283019 1.        ]\n",
      "Czułość: [0.96116505 0.97297297 0.92553191 1.         0.92307692]\n",
      "F1: [0.94736842 0.96644295 0.94054054 0.97584541 0.96      ]\n",
      "[[ 99   1   3   0   0]\n",
      " [  1  72   0   1   0]\n",
      " [  5   0  87   2   0]\n",
      " [  0   0   0 101   0]\n",
      " [  1   2   1   2  72]]\n",
      "╒═══════╤═══════╤═══════╤═══════╤═══════╕\n",
      "│ 0.934 │ 0.96  │ 0.956 │ 0.953 │ 1     │\n",
      "├───────┼───────┼───────┼───────┼───────┤\n",
      "│ 0.961 │ 0.973 │ 0.926 │ 1     │ 0.923 │\n",
      "├───────┼───────┼───────┼───────┼───────┤\n",
      "│ 0.947 │ 0.966 │ 0.941 │ 0.976 │ 0.96  │\n",
      "╘═══════╧═══════╧═══════╧═══════╧═══════╛\n",
      "Dokładność: 0.958\n"
     ]
    }
   ],
   "source": [
    "def predict_function(model, x):\n",
    "    return model.predict(x)\n",
    "\n",
    "svc_classifier = svc_grid.best_estimator_\n",
    "best_svc_params = svc_grid.best_params_\n",
    "svc_train_score = svc_grid.best_score_\n",
    "\n",
    "print(f\"Najlepsze znalezione parametry dla SVC:\\n{best_svc_params}\\n\\n\"\\\n",
    "     f\"Wynik na zbiorze treningowym dla SVC: {svc_train_score}\\n\")\n",
    "\n",
    "\n",
    "metrics = Metrics(svc_classifier, predict_function)\n",
    "print(\"Metryki dla zbioru testowego dla klasyfikatora SVC\")\n",
    "_ = metrics.accuracy(x_test, y_test)\n",
    "_ = metrics.precision(x_test, y_test)\n",
    "_ = metrics.recall(x_test, y_test)\n",
    "_ = metrics.f1(x_test, y_test)\n",
    "metrics.print_confusion_matrix(x_test, y_test)\n",
    "metrics.print_metrics(x_test, y_test)"
   ]
  },
  {
   "cell_type": "code",
   "execution_count": 10,
   "id": "6e87a6b7",
   "metadata": {},
   "outputs": [
    {
     "data": {
      "text/html": [
       "<style>#sk-container-id-2 {color: black;background-color: white;}#sk-container-id-2 pre{padding: 0;}#sk-container-id-2 div.sk-toggleable {background-color: white;}#sk-container-id-2 label.sk-toggleable__label {cursor: pointer;display: block;width: 100%;margin-bottom: 0;padding: 0.3em;box-sizing: border-box;text-align: center;}#sk-container-id-2 label.sk-toggleable__label-arrow:before {content: \"▸\";float: left;margin-right: 0.25em;color: #696969;}#sk-container-id-2 label.sk-toggleable__label-arrow:hover:before {color: black;}#sk-container-id-2 div.sk-estimator:hover label.sk-toggleable__label-arrow:before {color: black;}#sk-container-id-2 div.sk-toggleable__content {max-height: 0;max-width: 0;overflow: hidden;text-align: left;background-color: #f0f8ff;}#sk-container-id-2 div.sk-toggleable__content pre {margin: 0.2em;color: black;border-radius: 0.25em;background-color: #f0f8ff;}#sk-container-id-2 input.sk-toggleable__control:checked~div.sk-toggleable__content {max-height: 200px;max-width: 100%;overflow: auto;}#sk-container-id-2 input.sk-toggleable__control:checked~label.sk-toggleable__label-arrow:before {content: \"▾\";}#sk-container-id-2 div.sk-estimator input.sk-toggleable__control:checked~label.sk-toggleable__label {background-color: #d4ebff;}#sk-container-id-2 div.sk-label input.sk-toggleable__control:checked~label.sk-toggleable__label {background-color: #d4ebff;}#sk-container-id-2 input.sk-hidden--visually {border: 0;clip: rect(1px 1px 1px 1px);clip: rect(1px, 1px, 1px, 1px);height: 1px;margin: -1px;overflow: hidden;padding: 0;position: absolute;width: 1px;}#sk-container-id-2 div.sk-estimator {font-family: monospace;background-color: #f0f8ff;border: 1px dotted black;border-radius: 0.25em;box-sizing: border-box;margin-bottom: 0.5em;}#sk-container-id-2 div.sk-estimator:hover {background-color: #d4ebff;}#sk-container-id-2 div.sk-parallel-item::after {content: \"\";width: 100%;border-bottom: 1px solid gray;flex-grow: 1;}#sk-container-id-2 div.sk-label:hover label.sk-toggleable__label {background-color: #d4ebff;}#sk-container-id-2 div.sk-serial::before {content: \"\";position: absolute;border-left: 1px solid gray;box-sizing: border-box;top: 0;bottom: 0;left: 50%;z-index: 0;}#sk-container-id-2 div.sk-serial {display: flex;flex-direction: column;align-items: center;background-color: white;padding-right: 0.2em;padding-left: 0.2em;position: relative;}#sk-container-id-2 div.sk-item {position: relative;z-index: 1;}#sk-container-id-2 div.sk-parallel {display: flex;align-items: stretch;justify-content: center;background-color: white;position: relative;}#sk-container-id-2 div.sk-item::before, #sk-container-id-2 div.sk-parallel-item::before {content: \"\";position: absolute;border-left: 1px solid gray;box-sizing: border-box;top: 0;bottom: 0;left: 50%;z-index: -1;}#sk-container-id-2 div.sk-parallel-item {display: flex;flex-direction: column;z-index: 1;position: relative;background-color: white;}#sk-container-id-2 div.sk-parallel-item:first-child::after {align-self: flex-end;width: 50%;}#sk-container-id-2 div.sk-parallel-item:last-child::after {align-self: flex-start;width: 50%;}#sk-container-id-2 div.sk-parallel-item:only-child::after {width: 0;}#sk-container-id-2 div.sk-dashed-wrapped {border: 1px dashed gray;margin: 0 0.4em 0.5em 0.4em;box-sizing: border-box;padding-bottom: 0.4em;background-color: white;}#sk-container-id-2 div.sk-label label {font-family: monospace;font-weight: bold;display: inline-block;line-height: 1.2em;}#sk-container-id-2 div.sk-label-container {text-align: center;}#sk-container-id-2 div.sk-container {/* jupyter's `normalize.less` sets `[hidden] { display: none; }` but bootstrap.min.css set `[hidden] { display: none !important; }` so we also need the `!important` here to be able to override the default hidden behavior on the sphinx rendered scikit-learn.org. See: https://github.com/scikit-learn/scikit-learn/issues/21755 */display: inline-block !important;position: relative;}#sk-container-id-2 div.sk-text-repr-fallback {display: none;}</style><div id=\"sk-container-id-2\" class=\"sk-top-container\"><div class=\"sk-text-repr-fallback\"><pre>GridSearchCV(estimator=DecisionTreeClassifier(),\n",
       "             param_grid={&#x27;criterion&#x27;: [&#x27;gini&#x27;, &#x27;entropy&#x27;],\n",
       "                         &#x27;max_features&#x27;: [None, &#x27;sqrt&#x27;, &#x27;log2&#x27;],\n",
       "                         &#x27;min_samples_split&#x27;: [2, 5, 15],\n",
       "                         &#x27;splitter&#x27;: [&#x27;best&#x27;, &#x27;random&#x27;]},\n",
       "             scoring=&#x27;accuracy&#x27;)</pre><b>In a Jupyter environment, please rerun this cell to show the HTML representation or trust the notebook. <br />On GitHub, the HTML representation is unable to render, please try loading this page with nbviewer.org.</b></div><div class=\"sk-container\" hidden><div class=\"sk-item sk-dashed-wrapped\"><div class=\"sk-label-container\"><div class=\"sk-label sk-toggleable\"><input class=\"sk-toggleable__control sk-hidden--visually\" id=\"sk-estimator-id-4\" type=\"checkbox\" ><label for=\"sk-estimator-id-4\" class=\"sk-toggleable__label sk-toggleable__label-arrow\">GridSearchCV</label><div class=\"sk-toggleable__content\"><pre>GridSearchCV(estimator=DecisionTreeClassifier(),\n",
       "             param_grid={&#x27;criterion&#x27;: [&#x27;gini&#x27;, &#x27;entropy&#x27;],\n",
       "                         &#x27;max_features&#x27;: [None, &#x27;sqrt&#x27;, &#x27;log2&#x27;],\n",
       "                         &#x27;min_samples_split&#x27;: [2, 5, 15],\n",
       "                         &#x27;splitter&#x27;: [&#x27;best&#x27;, &#x27;random&#x27;]},\n",
       "             scoring=&#x27;accuracy&#x27;)</pre></div></div></div><div class=\"sk-parallel\"><div class=\"sk-parallel-item\"><div class=\"sk-item\"><div class=\"sk-label-container\"><div class=\"sk-label sk-toggleable\"><input class=\"sk-toggleable__control sk-hidden--visually\" id=\"sk-estimator-id-5\" type=\"checkbox\" ><label for=\"sk-estimator-id-5\" class=\"sk-toggleable__label sk-toggleable__label-arrow\">estimator: DecisionTreeClassifier</label><div class=\"sk-toggleable__content\"><pre>DecisionTreeClassifier()</pre></div></div></div><div class=\"sk-serial\"><div class=\"sk-item\"><div class=\"sk-estimator sk-toggleable\"><input class=\"sk-toggleable__control sk-hidden--visually\" id=\"sk-estimator-id-6\" type=\"checkbox\" ><label for=\"sk-estimator-id-6\" class=\"sk-toggleable__label sk-toggleable__label-arrow\">DecisionTreeClassifier</label><div class=\"sk-toggleable__content\"><pre>DecisionTreeClassifier()</pre></div></div></div></div></div></div></div></div></div></div>"
      ],
      "text/plain": [
       "GridSearchCV(estimator=DecisionTreeClassifier(),\n",
       "             param_grid={'criterion': ['gini', 'entropy'],\n",
       "                         'max_features': [None, 'sqrt', 'log2'],\n",
       "                         'min_samples_split': [2, 5, 15],\n",
       "                         'splitter': ['best', 'random']},\n",
       "             scoring='accuracy')"
      ]
     },
     "execution_count": 10,
     "metadata": {},
     "output_type": "execute_result"
    }
   ],
   "source": [
    "parameters = {'criterion':['gini', 'entropy'], 'max_features':[None, \"sqrt\", 'log2'], \n",
    "              'min_samples_split': [2,5,15], 'splitter': ['best', 'random']}\n",
    "tree = DecisionTreeClassifier()\n",
    "tree_grid = GridSearchCV(tree, parameters, scoring='accuracy')\n",
    "tree_grid.fit(x_train,y_train)"
   ]
  },
  {
   "cell_type": "code",
   "execution_count": 11,
   "id": "39adf4a8",
   "metadata": {},
   "outputs": [
    {
     "name": "stdout",
     "output_type": "stream",
     "text": [
      "Najlepsze znalezione parametry dla drzewa decyzyjnego:\n",
      "{'criterion': 'entropy', 'max_features': None, 'min_samples_split': 2, 'splitter': 'best'}\n",
      "\n",
      "Wynik na zbiorze treningowym dla drzewa decyzyjnego: 0.7869308506405666\n",
      "Głębokość drzewa decyzyjnego: 12\n",
      "\n",
      "Metryki dla zbioru testowego dla drzewa decyzyjnego\n",
      "Dokładność: 0.8\n",
      "Precyzja: [0.82105263 0.77108434 0.73033708 0.89       0.77108434]\n",
      "Czułość: [0.75728155 0.86486486 0.69148936 0.88118812 0.82051282]\n",
      "F1: [0.78787879 0.81528662 0.71038251 0.88557214 0.79503106]\n",
      "[[78  4 12  3  6]\n",
      " [ 1 64  5  4  0]\n",
      " [10  6 65  3 10]\n",
      " [ 1  5  3 89  3]\n",
      " [ 5  4  4  1 64]]\n",
      "╒═══════╤═══════╤═══════╤═══════╤═══════╕\n",
      "│ 0.821 │ 0.771 │ 0.73  │ 0.89  │ 0.771 │\n",
      "├───────┼───────┼───────┼───────┼───────┤\n",
      "│ 0.757 │ 0.865 │ 0.691 │ 0.881 │ 0.821 │\n",
      "├───────┼───────┼───────┼───────┼───────┤\n",
      "│ 0.788 │ 0.815 │ 0.71  │ 0.886 │ 0.795 │\n",
      "╘═══════╧═══════╧═══════╧═══════╧═══════╛\n",
      "Dokładność: 0.8\n"
     ]
    }
   ],
   "source": [
    "tree_classifier = tree_grid.best_estimator_\n",
    "best_tree_params = tree_grid.best_params_\n",
    "tree_train_score = tree_grid.best_score_\n",
    "\n",
    "print(f\"Najlepsze znalezione parametry dla drzewa decyzyjnego:\\n{best_tree_params}\\n\\n\"\\\n",
    "     f\"Wynik na zbiorze treningowym dla drzewa decyzyjnego: {tree_train_score}\\n\"\\\n",
    "     f\"Głębokość drzewa decyzyjnego: {tree_classifier.get_depth()}\\n\")\n",
    "\n",
    "\n",
    "metrics = Metrics(tree_classifier, predict_function)\n",
    "print(\"Metryki dla zbioru testowego dla drzewa decyzyjnego\")\n",
    "_ = metrics.accuracy(x_test, y_test)\n",
    "_ = metrics.precision(x_test, y_test)\n",
    "_ = metrics.recall(x_test, y_test)\n",
    "_ = metrics.f1(x_test, y_test)\n",
    "\n",
    "metrics.print_confusion_matrix(x_test, y_test)\n",
    "metrics.print_metrics(x_test, y_test)"
   ]
  },
  {
   "cell_type": "code",
   "execution_count": 12,
   "id": "f57dfc32",
   "metadata": {},
   "outputs": [
    {
     "name": "stdout",
     "output_type": "stream",
     "text": [
      "Wstępne przetwarzanie: [<PrepOption.NUMBERS: 7>, <PrepOption.RUBBISH: 6>, <PrepOption.INTERPUNCTION: 4>]\n"
     ]
    }
   ],
   "source": [
    "print(f\"Wstępne przetwarzanie: {options}\")"
   ]
  },
  {
   "cell_type": "code",
   "execution_count": null,
   "id": "6fc540a3",
   "metadata": {},
   "outputs": [],
   "source": []
  }
 ],
 "metadata": {
  "kernelspec": {
   "display_name": "Python 3 (ipykernel)",
   "language": "python",
   "name": "python3"
  },
  "language_info": {
   "codemirror_mode": {
    "name": "ipython",
    "version": 3
   },
   "file_extension": ".py",
   "mimetype": "text/x-python",
   "name": "python",
   "nbconvert_exporter": "python",
   "pygments_lexer": "ipython3",
   "version": "3.8.0"
  }
 },
 "nbformat": 4,
 "nbformat_minor": 5
}
