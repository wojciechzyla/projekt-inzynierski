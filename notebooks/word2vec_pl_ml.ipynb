{
 "cells": [
  {
   "cell_type": "code",
   "execution_count": 1,
   "id": "7a42ced7",
   "metadata": {},
   "outputs": [
    {
     "name": "stderr",
     "output_type": "stream",
     "text": [
      "2022-12-11 23:32:30.887485: I tensorflow/core/platform/cpu_feature_guard.cc:193] This TensorFlow binary is optimized with oneAPI Deep Neural Network Library (oneDNN) to use the following CPU instructions in performance-critical operations:  AVX2 FMA\n",
      "To enable them in other operations, rebuild TensorFlow with the appropriate compiler flags.\n"
     ]
    }
   ],
   "source": [
    "import pandas as pd\n",
    "import os\n",
    "import sys\n",
    "module_path = os.path.abspath(os.path.join('..'))\n",
    "if module_path not in sys.path:\n",
    "    sys.path.append(module_path)\n",
    "from my_nlp_module.preprocessing import PrepOption, preprocess_klej\n",
    "import numpy as np\n",
    "import pandas as pd\n",
    "from gensim.models import KeyedVectors\n",
    "from sklearn.model_selection import GridSearchCV\n",
    "from sklearn.svm import SVC\n",
    "from sklearn.tree import DecisionTreeClassifier\n",
    "from tensorflow.keras.preprocessing.sequence import pad_sequences\n",
    "import gc\n",
    "import os\n",
    "from my_nlp_module.tokenizer import Tokenizer\n",
    "from my_nlp_module.metrics import Metrics\n",
    "import matplotlib.pyplot as plt\n",
    "\n",
    "path_to_model = \"../pretrained_models/62/model.bin\"\n",
    "model = KeyedVectors.load_word2vec_format(path_to_model, binary=True)\n",
    "embed_dim = model.vector_size"
   ]
  },
  {
   "cell_type": "code",
   "execution_count": 2,
   "id": "73f9a4d2",
   "metadata": {},
   "outputs": [],
   "source": [
    "def mean_doc_vector(document, embed_dim, embed_matrix):\n",
    "    result = np.zeros(embed_dim,)\n",
    "    for token in document:\n",
    "        if token != 0:\n",
    "            result += embed_matrix[token]\n",
    "    result /= len(document)\n",
    "    return result"
   ]
  },
  {
   "cell_type": "code",
   "execution_count": 3,
   "id": "350224fb",
   "metadata": {},
   "outputs": [
    {
     "name": "stderr",
     "output_type": "stream",
     "text": [
      "Loading: 100%|██████████████| 11368252/11368252 [00:10<00:00, 1092975.36bytes/s]\n",
      "Loading: 100%|██████████████| 11368252/11368252 [00:09<00:00, 1229682.99bytes/s]\n"
     ]
    },
    {
     "name": "stdout",
     "output_type": "stream",
     "text": [
      "zbiór treningowy: rating\n",
      "0.0    1733\n",
      "1.0    1069\n",
      "2.0    1208\n",
      "3.0    1644\n",
      "4.0    3923\n",
      "Name: rating, dtype: int64\n",
      "zbiór testowy: rating\n",
      "0.0    209\n",
      "1.0    118\n",
      "2.0    138\n",
      "3.0    201\n",
      "4.0    336\n",
      "Name: rating, dtype: int64\n"
     ]
    }
   ],
   "source": [
    "train_path = '../datasets/klej_ar/train.tsv'\n",
    "dev_path = '../datasets/klej_ar/dev.tsv'\n",
    "\n",
    "df_train = pd.read_csv(train_path, sep='\\t')\n",
    "df_train = df_train.sample(frac=1, axis=0).reset_index(drop=True)\n",
    "\n",
    "df_test = pd.read_csv(dev_path, sep='\\t')\n",
    "df_test = df_test.sample(frac=1, axis=0).reset_index(drop=True)\n",
    "\n",
    "# Poniżej należy odkomentować testowany zestaw wstępnego przetwarzania\n",
    "\n",
    "#options = [PrepOption.STOPWORDS, PrepOption.LOWERCASE, PrepOption.STEM,\n",
    "#           PrepOption.NUMBERS, PrepOption.RUBBISH, PrepOption.INTERPUNCTION]\n",
    "options = [PrepOption.NUMBERS, PrepOption.RUBBISH, PrepOption.INTERPUNCTION]\n",
    "\n",
    "df_train = preprocess_klej(df_train, options, \"../my_nlp_module/polish_stopwords.txt\")\n",
    "df_train['rating'] = df_train['rating'].apply(lambda x: x-1)\n",
    "\n",
    "df_test = preprocess_klej(df_test, options, \"../my_nlp_module/polish_stopwords.txt\")\n",
    "df_test['rating'] = df_test['rating'].apply(lambda x: x-1)\n",
    "\n",
    "\n",
    "print(f\"zbiór treningowy: {df_train.groupby(['rating'])['rating'].count()}\")\n",
    "print(f\"zbiór testowy: {df_test.groupby(['rating'])['rating'].count()}\")"
   ]
  },
  {
   "cell_type": "code",
   "execution_count": 4,
   "id": "837fe9c8",
   "metadata": {},
   "outputs": [
    {
     "name": "stdout",
     "output_type": "stream",
     "text": [
      "number of words 8001\n"
     ]
    }
   ],
   "source": [
    "MAX_WORDS = 8000\n",
    "tok = Tokenizer(MAX_WORDS)\n",
    "tok.fit(list(df_train['text']))\n",
    "vocab_size = len(tok.vocab) + 1\n",
    "\n",
    "embed_matrix=np.zeros(shape=(vocab_size,embed_dim))\n",
    "for word,i in tok.vocab.items():\n",
    "    try:\n",
    "        embed_vector=model[word]\n",
    "        embed_matrix[i]=embed_vector\n",
    "    except KeyError:\n",
    "        continue\n",
    "\n",
    "print(f\"number of words {vocab_size}\")"
   ]
  },
  {
   "cell_type": "code",
   "execution_count": 5,
   "id": "380d077a",
   "metadata": {},
   "outputs": [
    {
     "name": "stdout",
     "output_type": "stream",
     "text": [
      "Maksymalna długość dokumentu: 80\n",
      "Kształt macierzy dokumentów treningowych: (9577, 80)\n",
      "Kształt macierzy dokumentów testowych: (1002, 80)\n"
     ]
    }
   ],
   "source": [
    "encoded_train = tok.texts_to_sequences(list(df_train['text']))\n",
    "encoded_test = tok.texts_to_sequences(list(df_test['text']))\n",
    "\n",
    "lengths = []\n",
    "m = -1\n",
    "for doc in encoded_train:\n",
    "    lengths.append(len(doc))\n",
    "    if len(doc) > m:\n",
    "        m = len(doc)\n",
    "lengths = np.array(lengths)\n",
    "mean = np.mean(lengths)\n",
    "std = np.std(lengths)\n",
    "max_doc_len = int(mean + std/2)\n",
    "        \n",
    "print(f\"Maksymalna długość dokumentu: {max_doc_len}\")\n",
    "pad_docs_train = pad_sequences(encoded_train, maxlen=max_doc_len, padding='post')\n",
    "pad_docs_test = pad_sequences(encoded_test, maxlen=max_doc_len, padding='post')\n",
    "print(f\"Kształt macierzy dokumentów treningowych: {pad_docs_train.shape}\")\n",
    "print(f\"Kształt macierzy dokumentów testowych: {pad_docs_test.shape}\")"
   ]
  },
  {
   "cell_type": "code",
   "execution_count": 6,
   "id": "c777ca12",
   "metadata": {},
   "outputs": [
    {
     "name": "stdout",
     "output_type": "stream",
     "text": [
      "Kształt wektorów treningowych: (9577, 100)\n",
      "Kształt wektorów testowych: (1002, 100)\n"
     ]
    }
   ],
   "source": [
    "seq_vectors_train = np.asarray([mean_doc_vector(pad_docs_train[i], embed_dim, embed_matrix) \\\n",
    "                                for i in range(pad_docs_train.shape[0])])\n",
    "seq_vectors_test = np.asarray([mean_doc_vector(pad_docs_test[i], embed_dim, embed_matrix) \\\n",
    "                                for i in range(pad_docs_test.shape[0])])\n",
    "print(f\"Kształt wektorów treningowych: {seq_vectors_train.shape}\\n\"\\\n",
    "     f\"Kształt wektorów testowych: {seq_vectors_test.shape}\")"
   ]
  },
  {
   "cell_type": "code",
   "execution_count": 7,
   "id": "689c2ffe",
   "metadata": {},
   "outputs": [
    {
     "name": "stdout",
     "output_type": "stream",
     "text": [
      "(9577, 100)\n",
      "(1002, 100)\n",
      "(9577,)\n",
      "(1002,)\n"
     ]
    }
   ],
   "source": [
    "x_train = seq_vectors_train\n",
    "y_train = np.array(df_train['rating'])\n",
    "x_test = seq_vectors_test\n",
    "y_test = np.array(df_test['rating'])\n",
    "\n",
    "print(x_train.shape)\n",
    "print(x_test.shape)\n",
    "print(y_train.shape)\n",
    "print(y_test.shape)"
   ]
  },
  {
   "cell_type": "code",
   "execution_count": 8,
   "id": "a1ead191",
   "metadata": {},
   "outputs": [
    {
     "name": "stdout",
     "output_type": "stream",
     "text": [
      "Fitting 5 folds for each of 12 candidates, totalling 60 fits\n",
      "[CV 1/5] END ......C=0.1, degree=3, kernel=poly;, score=0.448 total time=   6.2s\n",
      "[CV 2/5] END ......C=0.1, degree=3, kernel=poly;, score=0.445 total time=   6.3s\n",
      "[CV 3/5] END ......C=0.1, degree=3, kernel=poly;, score=0.440 total time=   6.1s\n",
      "[CV 4/5] END ......C=0.1, degree=3, kernel=poly;, score=0.428 total time=   6.1s\n",
      "[CV 5/5] END ......C=0.1, degree=3, kernel=poly;, score=0.449 total time=   6.0s\n",
      "[CV 1/5] END .......C=0.1, degree=3, kernel=rbf;, score=0.443 total time=   8.9s\n",
      "[CV 2/5] END .......C=0.1, degree=3, kernel=rbf;, score=0.447 total time=   9.0s\n",
      "[CV 3/5] END .......C=0.1, degree=3, kernel=rbf;, score=0.444 total time=   8.7s\n",
      "[CV 4/5] END .......C=0.1, degree=3, kernel=rbf;, score=0.437 total time=   8.6s\n",
      "[CV 5/5] END .......C=0.1, degree=3, kernel=rbf;, score=0.450 total time=   8.1s\n",
      "[CV 1/5] END ......C=0.1, degree=4, kernel=poly;, score=0.449 total time=   5.6s\n",
      "[CV 2/5] END ......C=0.1, degree=4, kernel=poly;, score=0.437 total time=   5.4s\n",
      "[CV 3/5] END ......C=0.1, degree=4, kernel=poly;, score=0.438 total time=   5.5s\n",
      "[CV 4/5] END ......C=0.1, degree=4, kernel=poly;, score=0.427 total time=   5.5s\n",
      "[CV 5/5] END ......C=0.1, degree=4, kernel=poly;, score=0.444 total time=   5.6s\n",
      "[CV 1/5] END .......C=0.1, degree=4, kernel=rbf;, score=0.443 total time=   8.0s\n",
      "[CV 2/5] END .......C=0.1, degree=4, kernel=rbf;, score=0.447 total time=   7.9s\n",
      "[CV 3/5] END .......C=0.1, degree=4, kernel=rbf;, score=0.444 total time=   7.8s\n",
      "[CV 4/5] END .......C=0.1, degree=4, kernel=rbf;, score=0.437 total time=   7.7s\n",
      "[CV 5/5] END .......C=0.1, degree=4, kernel=rbf;, score=0.450 total time=   7.8s\n",
      "[CV 1/5] END ........C=1, degree=3, kernel=poly;, score=0.485 total time=   5.7s\n",
      "[CV 2/5] END ........C=1, degree=3, kernel=poly;, score=0.471 total time=   6.1s\n",
      "[CV 3/5] END ........C=1, degree=3, kernel=poly;, score=0.483 total time=   6.7s\n",
      "[CV 4/5] END ........C=1, degree=3, kernel=poly;, score=0.475 total time=   6.6s\n",
      "[CV 5/5] END ........C=1, degree=3, kernel=poly;, score=0.476 total time=   5.8s\n",
      "[CV 1/5] END .........C=1, degree=3, kernel=rbf;, score=0.508 total time=   7.1s\n",
      "[CV 2/5] END .........C=1, degree=3, kernel=rbf;, score=0.501 total time=   7.0s\n",
      "[CV 3/5] END .........C=1, degree=3, kernel=rbf;, score=0.518 total time=   7.8s\n",
      "[CV 4/5] END .........C=1, degree=3, kernel=rbf;, score=0.506 total time=   7.6s\n",
      "[CV 5/5] END .........C=1, degree=3, kernel=rbf;, score=0.501 total time=   7.6s\n",
      "[CV 1/5] END ........C=1, degree=4, kernel=poly;, score=0.473 total time=   6.0s\n",
      "[CV 2/5] END ........C=1, degree=4, kernel=poly;, score=0.458 total time=   6.1s\n",
      "[CV 3/5] END ........C=1, degree=4, kernel=poly;, score=0.468 total time=   5.9s\n",
      "[CV 4/5] END ........C=1, degree=4, kernel=poly;, score=0.457 total time=   5.7s\n",
      "[CV 5/5] END ........C=1, degree=4, kernel=poly;, score=0.463 total time=   5.9s\n",
      "[CV 1/5] END .........C=1, degree=4, kernel=rbf;, score=0.508 total time=   7.5s\n",
      "[CV 2/5] END .........C=1, degree=4, kernel=rbf;, score=0.501 total time=   7.2s\n",
      "[CV 3/5] END .........C=1, degree=4, kernel=rbf;, score=0.518 total time=   7.3s\n",
      "[CV 4/5] END .........C=1, degree=4, kernel=rbf;, score=0.506 total time=   8.1s\n",
      "[CV 5/5] END .........C=1, degree=4, kernel=rbf;, score=0.501 total time=   8.2s\n",
      "[CV 1/5] END .......C=10, degree=3, kernel=poly;, score=0.502 total time=  10.5s\n",
      "[CV 2/5] END .......C=10, degree=3, kernel=poly;, score=0.474 total time=   8.3s\n",
      "[CV 3/5] END .......C=10, degree=3, kernel=poly;, score=0.494 total time=   9.2s\n",
      "[CV 4/5] END .......C=10, degree=3, kernel=poly;, score=0.487 total time=   9.0s\n",
      "[CV 5/5] END .......C=10, degree=3, kernel=poly;, score=0.492 total time=   8.5s\n",
      "[CV 1/5] END ........C=10, degree=3, kernel=rbf;, score=0.509 total time=   7.2s\n",
      "[CV 2/5] END ........C=10, degree=3, kernel=rbf;, score=0.498 total time=   7.2s\n",
      "[CV 3/5] END ........C=10, degree=3, kernel=rbf;, score=0.535 total time=   7.1s\n",
      "[CV 4/5] END ........C=10, degree=3, kernel=rbf;, score=0.515 total time=   7.3s\n",
      "[CV 5/5] END ........C=10, degree=3, kernel=rbf;, score=0.499 total time=   7.3s\n",
      "[CV 1/5] END .......C=10, degree=4, kernel=poly;, score=0.484 total time=  10.8s\n",
      "[CV 2/5] END .......C=10, degree=4, kernel=poly;, score=0.469 total time=  12.0s\n",
      "[CV 3/5] END .......C=10, degree=4, kernel=poly;, score=0.478 total time=  13.7s\n",
      "[CV 4/5] END .......C=10, degree=4, kernel=poly;, score=0.472 total time=  11.4s\n",
      "[CV 5/5] END .......C=10, degree=4, kernel=poly;, score=0.472 total time=  12.3s\n",
      "[CV 1/5] END ........C=10, degree=4, kernel=rbf;, score=0.509 total time=   8.9s\n",
      "[CV 2/5] END ........C=10, degree=4, kernel=rbf;, score=0.498 total time=   9.7s\n",
      "[CV 3/5] END ........C=10, degree=4, kernel=rbf;, score=0.535 total time=   7.7s\n",
      "[CV 4/5] END ........C=10, degree=4, kernel=rbf;, score=0.515 total time=   7.3s\n",
      "[CV 5/5] END ........C=10, degree=4, kernel=rbf;, score=0.499 total time=   8.1s\n"
     ]
    },
    {
     "data": {
      "text/html": [
       "<style>#sk-container-id-1 {color: black;background-color: white;}#sk-container-id-1 pre{padding: 0;}#sk-container-id-1 div.sk-toggleable {background-color: white;}#sk-container-id-1 label.sk-toggleable__label {cursor: pointer;display: block;width: 100%;margin-bottom: 0;padding: 0.3em;box-sizing: border-box;text-align: center;}#sk-container-id-1 label.sk-toggleable__label-arrow:before {content: \"▸\";float: left;margin-right: 0.25em;color: #696969;}#sk-container-id-1 label.sk-toggleable__label-arrow:hover:before {color: black;}#sk-container-id-1 div.sk-estimator:hover label.sk-toggleable__label-arrow:before {color: black;}#sk-container-id-1 div.sk-toggleable__content {max-height: 0;max-width: 0;overflow: hidden;text-align: left;background-color: #f0f8ff;}#sk-container-id-1 div.sk-toggleable__content pre {margin: 0.2em;color: black;border-radius: 0.25em;background-color: #f0f8ff;}#sk-container-id-1 input.sk-toggleable__control:checked~div.sk-toggleable__content {max-height: 200px;max-width: 100%;overflow: auto;}#sk-container-id-1 input.sk-toggleable__control:checked~label.sk-toggleable__label-arrow:before {content: \"▾\";}#sk-container-id-1 div.sk-estimator input.sk-toggleable__control:checked~label.sk-toggleable__label {background-color: #d4ebff;}#sk-container-id-1 div.sk-label input.sk-toggleable__control:checked~label.sk-toggleable__label {background-color: #d4ebff;}#sk-container-id-1 input.sk-hidden--visually {border: 0;clip: rect(1px 1px 1px 1px);clip: rect(1px, 1px, 1px, 1px);height: 1px;margin: -1px;overflow: hidden;padding: 0;position: absolute;width: 1px;}#sk-container-id-1 div.sk-estimator {font-family: monospace;background-color: #f0f8ff;border: 1px dotted black;border-radius: 0.25em;box-sizing: border-box;margin-bottom: 0.5em;}#sk-container-id-1 div.sk-estimator:hover {background-color: #d4ebff;}#sk-container-id-1 div.sk-parallel-item::after {content: \"\";width: 100%;border-bottom: 1px solid gray;flex-grow: 1;}#sk-container-id-1 div.sk-label:hover label.sk-toggleable__label {background-color: #d4ebff;}#sk-container-id-1 div.sk-serial::before {content: \"\";position: absolute;border-left: 1px solid gray;box-sizing: border-box;top: 0;bottom: 0;left: 50%;z-index: 0;}#sk-container-id-1 div.sk-serial {display: flex;flex-direction: column;align-items: center;background-color: white;padding-right: 0.2em;padding-left: 0.2em;position: relative;}#sk-container-id-1 div.sk-item {position: relative;z-index: 1;}#sk-container-id-1 div.sk-parallel {display: flex;align-items: stretch;justify-content: center;background-color: white;position: relative;}#sk-container-id-1 div.sk-item::before, #sk-container-id-1 div.sk-parallel-item::before {content: \"\";position: absolute;border-left: 1px solid gray;box-sizing: border-box;top: 0;bottom: 0;left: 50%;z-index: -1;}#sk-container-id-1 div.sk-parallel-item {display: flex;flex-direction: column;z-index: 1;position: relative;background-color: white;}#sk-container-id-1 div.sk-parallel-item:first-child::after {align-self: flex-end;width: 50%;}#sk-container-id-1 div.sk-parallel-item:last-child::after {align-self: flex-start;width: 50%;}#sk-container-id-1 div.sk-parallel-item:only-child::after {width: 0;}#sk-container-id-1 div.sk-dashed-wrapped {border: 1px dashed gray;margin: 0 0.4em 0.5em 0.4em;box-sizing: border-box;padding-bottom: 0.4em;background-color: white;}#sk-container-id-1 div.sk-label label {font-family: monospace;font-weight: bold;display: inline-block;line-height: 1.2em;}#sk-container-id-1 div.sk-label-container {text-align: center;}#sk-container-id-1 div.sk-container {/* jupyter's `normalize.less` sets `[hidden] { display: none; }` but bootstrap.min.css set `[hidden] { display: none !important; }` so we also need the `!important` here to be able to override the default hidden behavior on the sphinx rendered scikit-learn.org. See: https://github.com/scikit-learn/scikit-learn/issues/21755 */display: inline-block !important;position: relative;}#sk-container-id-1 div.sk-text-repr-fallback {display: none;}</style><div id=\"sk-container-id-1\" class=\"sk-top-container\"><div class=\"sk-text-repr-fallback\"><pre>GridSearchCV(estimator=SVC(),\n",
       "             param_grid={&#x27;C&#x27;: [0.1, 1, 10], &#x27;degree&#x27;: [3, 4],\n",
       "                         &#x27;kernel&#x27;: [&#x27;poly&#x27;, &#x27;rbf&#x27;]},\n",
       "             scoring=&#x27;accuracy&#x27;, verbose=3)</pre><b>In a Jupyter environment, please rerun this cell to show the HTML representation or trust the notebook. <br />On GitHub, the HTML representation is unable to render, please try loading this page with nbviewer.org.</b></div><div class=\"sk-container\" hidden><div class=\"sk-item sk-dashed-wrapped\"><div class=\"sk-label-container\"><div class=\"sk-label sk-toggleable\"><input class=\"sk-toggleable__control sk-hidden--visually\" id=\"sk-estimator-id-1\" type=\"checkbox\" ><label for=\"sk-estimator-id-1\" class=\"sk-toggleable__label sk-toggleable__label-arrow\">GridSearchCV</label><div class=\"sk-toggleable__content\"><pre>GridSearchCV(estimator=SVC(),\n",
       "             param_grid={&#x27;C&#x27;: [0.1, 1, 10], &#x27;degree&#x27;: [3, 4],\n",
       "                         &#x27;kernel&#x27;: [&#x27;poly&#x27;, &#x27;rbf&#x27;]},\n",
       "             scoring=&#x27;accuracy&#x27;, verbose=3)</pre></div></div></div><div class=\"sk-parallel\"><div class=\"sk-parallel-item\"><div class=\"sk-item\"><div class=\"sk-label-container\"><div class=\"sk-label sk-toggleable\"><input class=\"sk-toggleable__control sk-hidden--visually\" id=\"sk-estimator-id-2\" type=\"checkbox\" ><label for=\"sk-estimator-id-2\" class=\"sk-toggleable__label sk-toggleable__label-arrow\">estimator: SVC</label><div class=\"sk-toggleable__content\"><pre>SVC()</pre></div></div></div><div class=\"sk-serial\"><div class=\"sk-item\"><div class=\"sk-estimator sk-toggleable\"><input class=\"sk-toggleable__control sk-hidden--visually\" id=\"sk-estimator-id-3\" type=\"checkbox\" ><label for=\"sk-estimator-id-3\" class=\"sk-toggleable__label sk-toggleable__label-arrow\">SVC</label><div class=\"sk-toggleable__content\"><pre>SVC()</pre></div></div></div></div></div></div></div></div></div></div>"
      ],
      "text/plain": [
       "GridSearchCV(estimator=SVC(),\n",
       "             param_grid={'C': [0.1, 1, 10], 'degree': [3, 4],\n",
       "                         'kernel': ['poly', 'rbf']},\n",
       "             scoring='accuracy', verbose=3)"
      ]
     },
     "execution_count": 8,
     "metadata": {},
     "output_type": "execute_result"
    }
   ],
   "source": [
    "parameters = {'kernel':['poly', 'rbf'], 'C':[0.1, 1, 10], 'degree':[3, 4]}\n",
    "#parameters = {'kernel':['rbf'], 'C':[0.1, 1, 10]}\n",
    "svc = SVC()\n",
    "svc_grid = GridSearchCV(svc, parameters, scoring='accuracy', verbose=3)\n",
    "svc_grid.fit(x_train,y_train)"
   ]
  },
  {
   "cell_type": "code",
   "execution_count": 9,
   "id": "21b095ee",
   "metadata": {},
   "outputs": [
    {
     "name": "stdout",
     "output_type": "stream",
     "text": [
      "Najlepsze znalezione parametry dla SVC:\n",
      "{'C': 10, 'degree': 3, 'kernel': 'rbf'}\n",
      "\n",
      "Wynik na zbiorze testowym dla SVC: 0.51122644543408\n",
      "\n",
      "Metryki dla zbioru testowego dla klasyfikatora SVC\n",
      "Dokładność: 0.46506986027944114\n",
      "Precyzja: [0.5037037  0.19230769 0.10526316 0.35365854 0.51146384]\n",
      "Czułość: [0.6507177  0.04237288 0.04347826 0.14427861 0.86309524]\n",
      "F1: [0.56784969 0.06944444 0.06153846 0.204947   0.64230343]\n",
      "[[136   9  14   3  47]\n",
      " [ 49   5  13  12  39]\n",
      " [ 39   7   6  24  62]\n",
      " [ 18   4  21  29 129]\n",
      " [ 28   1   3  14 290]]\n",
      "╒═══════╤═══════╤═══════╤═══════╤═══════╕\n",
      "│ 0.504 │ 0.192 │ 0.105 │ 0.354 │ 0.511 │\n",
      "├───────┼───────┼───────┼───────┼───────┤\n",
      "│ 0.651 │ 0.042 │ 0.043 │ 0.144 │ 0.863 │\n",
      "├───────┼───────┼───────┼───────┼───────┤\n",
      "│ 0.568 │ 0.069 │ 0.062 │ 0.205 │ 0.642 │\n",
      "╘═══════╧═══════╧═══════╧═══════╧═══════╛\n",
      "Dokładność: 0.465\n",
      "preprocessing: [<PrepOption.NUMBERS: 7>, <PrepOption.RUBBISH: 6>, <PrepOption.INTERPUNCTION: 4>]\n",
      "\n",
      "max words: 8000\n"
     ]
    }
   ],
   "source": [
    "def predict_function(model, x):\n",
    "    return model.predict(x)\n",
    "\n",
    "svc_classifier = svc_grid.best_estimator_\n",
    "best_svc_params = svc_grid.best_params_\n",
    "svc_train_score = svc_grid.best_score_\n",
    "\n",
    "print(f\"Najlepsze znalezione parametry dla SVC:\\n{best_svc_params}\\n\\n\"\\\n",
    "     f\"Wynik na zbiorze testowym dla SVC: {svc_train_score}\\n\")\n",
    "\n",
    "\n",
    "metrics = Metrics(svc_classifier, predict_function)\n",
    "print(\"Metryki dla zbioru testowego dla klasyfikatora SVC\")\n",
    "_ = metrics.accuracy(x_test, y_test)\n",
    "_ = metrics.precision(x_test, y_test)\n",
    "_ = metrics.recall(x_test, y_test)\n",
    "_ = metrics.f1(x_test, y_test)\n",
    "\n",
    "metrics.print_confusion_matrix(x_test, y_test)\n",
    "metrics.print_metrics(x_test, y_test)\n",
    "\n",
    "print(f\"preprocessing: {options}\\n\\nmax words: {MAX_WORDS}\")"
   ]
  },
  {
   "cell_type": "code",
   "execution_count": 10,
   "id": "47d4e2ce",
   "metadata": {},
   "outputs": [
    {
     "name": "stdout",
     "output_type": "stream",
     "text": [
      "Fitting 5 folds for each of 4 candidates, totalling 20 fits\n",
      "[CV 1/5] END .criterion=gini, max_features=None;, score=0.352 total time=   0.9s\n",
      "[CV 2/5] END .criterion=gini, max_features=None;, score=0.350 total time=   0.9s\n",
      "[CV 3/5] END .criterion=gini, max_features=None;, score=0.352 total time=   0.9s\n",
      "[CV 4/5] END .criterion=gini, max_features=None;, score=0.364 total time=   0.8s\n",
      "[CV 5/5] END .criterion=gini, max_features=None;, score=0.348 total time=   0.9s\n",
      "[CV 1/5] END .criterion=gini, max_features=sqrt;, score=0.353 total time=   0.1s\n",
      "[CV 2/5] END .criterion=gini, max_features=sqrt;, score=0.338 total time=   0.1s\n",
      "[CV 3/5] END .criterion=gini, max_features=sqrt;, score=0.348 total time=   0.1s\n",
      "[CV 4/5] END .criterion=gini, max_features=sqrt;, score=0.339 total time=   0.1s\n",
      "[CV 5/5] END .criterion=gini, max_features=sqrt;, score=0.339 total time=   0.1s\n",
      "[CV 1/5] END criterion=entropy, max_features=None;, score=0.339 total time=   1.6s\n",
      "[CV 2/5] END criterion=entropy, max_features=None;, score=0.343 total time=   1.5s\n",
      "[CV 3/5] END criterion=entropy, max_features=None;, score=0.355 total time=   1.6s\n",
      "[CV 4/5] END criterion=entropy, max_features=None;, score=0.362 total time=   1.7s\n",
      "[CV 5/5] END criterion=entropy, max_features=None;, score=0.338 total time=   1.6s\n",
      "[CV 1/5] END criterion=entropy, max_features=sqrt;, score=0.346 total time=   0.2s\n",
      "[CV 2/5] END criterion=entropy, max_features=sqrt;, score=0.346 total time=   0.2s\n",
      "[CV 3/5] END criterion=entropy, max_features=sqrt;, score=0.353 total time=   0.2s\n",
      "[CV 4/5] END criterion=entropy, max_features=sqrt;, score=0.348 total time=   0.2s\n",
      "[CV 5/5] END criterion=entropy, max_features=sqrt;, score=0.348 total time=   0.2s\n"
     ]
    },
    {
     "data": {
      "text/html": [
       "<style>#sk-container-id-2 {color: black;background-color: white;}#sk-container-id-2 pre{padding: 0;}#sk-container-id-2 div.sk-toggleable {background-color: white;}#sk-container-id-2 label.sk-toggleable__label {cursor: pointer;display: block;width: 100%;margin-bottom: 0;padding: 0.3em;box-sizing: border-box;text-align: center;}#sk-container-id-2 label.sk-toggleable__label-arrow:before {content: \"▸\";float: left;margin-right: 0.25em;color: #696969;}#sk-container-id-2 label.sk-toggleable__label-arrow:hover:before {color: black;}#sk-container-id-2 div.sk-estimator:hover label.sk-toggleable__label-arrow:before {color: black;}#sk-container-id-2 div.sk-toggleable__content {max-height: 0;max-width: 0;overflow: hidden;text-align: left;background-color: #f0f8ff;}#sk-container-id-2 div.sk-toggleable__content pre {margin: 0.2em;color: black;border-radius: 0.25em;background-color: #f0f8ff;}#sk-container-id-2 input.sk-toggleable__control:checked~div.sk-toggleable__content {max-height: 200px;max-width: 100%;overflow: auto;}#sk-container-id-2 input.sk-toggleable__control:checked~label.sk-toggleable__label-arrow:before {content: \"▾\";}#sk-container-id-2 div.sk-estimator input.sk-toggleable__control:checked~label.sk-toggleable__label {background-color: #d4ebff;}#sk-container-id-2 div.sk-label input.sk-toggleable__control:checked~label.sk-toggleable__label {background-color: #d4ebff;}#sk-container-id-2 input.sk-hidden--visually {border: 0;clip: rect(1px 1px 1px 1px);clip: rect(1px, 1px, 1px, 1px);height: 1px;margin: -1px;overflow: hidden;padding: 0;position: absolute;width: 1px;}#sk-container-id-2 div.sk-estimator {font-family: monospace;background-color: #f0f8ff;border: 1px dotted black;border-radius: 0.25em;box-sizing: border-box;margin-bottom: 0.5em;}#sk-container-id-2 div.sk-estimator:hover {background-color: #d4ebff;}#sk-container-id-2 div.sk-parallel-item::after {content: \"\";width: 100%;border-bottom: 1px solid gray;flex-grow: 1;}#sk-container-id-2 div.sk-label:hover label.sk-toggleable__label {background-color: #d4ebff;}#sk-container-id-2 div.sk-serial::before {content: \"\";position: absolute;border-left: 1px solid gray;box-sizing: border-box;top: 0;bottom: 0;left: 50%;z-index: 0;}#sk-container-id-2 div.sk-serial {display: flex;flex-direction: column;align-items: center;background-color: white;padding-right: 0.2em;padding-left: 0.2em;position: relative;}#sk-container-id-2 div.sk-item {position: relative;z-index: 1;}#sk-container-id-2 div.sk-parallel {display: flex;align-items: stretch;justify-content: center;background-color: white;position: relative;}#sk-container-id-2 div.sk-item::before, #sk-container-id-2 div.sk-parallel-item::before {content: \"\";position: absolute;border-left: 1px solid gray;box-sizing: border-box;top: 0;bottom: 0;left: 50%;z-index: -1;}#sk-container-id-2 div.sk-parallel-item {display: flex;flex-direction: column;z-index: 1;position: relative;background-color: white;}#sk-container-id-2 div.sk-parallel-item:first-child::after {align-self: flex-end;width: 50%;}#sk-container-id-2 div.sk-parallel-item:last-child::after {align-self: flex-start;width: 50%;}#sk-container-id-2 div.sk-parallel-item:only-child::after {width: 0;}#sk-container-id-2 div.sk-dashed-wrapped {border: 1px dashed gray;margin: 0 0.4em 0.5em 0.4em;box-sizing: border-box;padding-bottom: 0.4em;background-color: white;}#sk-container-id-2 div.sk-label label {font-family: monospace;font-weight: bold;display: inline-block;line-height: 1.2em;}#sk-container-id-2 div.sk-label-container {text-align: center;}#sk-container-id-2 div.sk-container {/* jupyter's `normalize.less` sets `[hidden] { display: none; }` but bootstrap.min.css set `[hidden] { display: none !important; }` so we also need the `!important` here to be able to override the default hidden behavior on the sphinx rendered scikit-learn.org. See: https://github.com/scikit-learn/scikit-learn/issues/21755 */display: inline-block !important;position: relative;}#sk-container-id-2 div.sk-text-repr-fallback {display: none;}</style><div id=\"sk-container-id-2\" class=\"sk-top-container\"><div class=\"sk-text-repr-fallback\"><pre>GridSearchCV(estimator=DecisionTreeClassifier(),\n",
       "             param_grid={&#x27;criterion&#x27;: [&#x27;gini&#x27;, &#x27;entropy&#x27;],\n",
       "                         &#x27;max_features&#x27;: [None, &#x27;sqrt&#x27;]},\n",
       "             scoring=&#x27;accuracy&#x27;, verbose=3)</pre><b>In a Jupyter environment, please rerun this cell to show the HTML representation or trust the notebook. <br />On GitHub, the HTML representation is unable to render, please try loading this page with nbviewer.org.</b></div><div class=\"sk-container\" hidden><div class=\"sk-item sk-dashed-wrapped\"><div class=\"sk-label-container\"><div class=\"sk-label sk-toggleable\"><input class=\"sk-toggleable__control sk-hidden--visually\" id=\"sk-estimator-id-4\" type=\"checkbox\" ><label for=\"sk-estimator-id-4\" class=\"sk-toggleable__label sk-toggleable__label-arrow\">GridSearchCV</label><div class=\"sk-toggleable__content\"><pre>GridSearchCV(estimator=DecisionTreeClassifier(),\n",
       "             param_grid={&#x27;criterion&#x27;: [&#x27;gini&#x27;, &#x27;entropy&#x27;],\n",
       "                         &#x27;max_features&#x27;: [None, &#x27;sqrt&#x27;]},\n",
       "             scoring=&#x27;accuracy&#x27;, verbose=3)</pre></div></div></div><div class=\"sk-parallel\"><div class=\"sk-parallel-item\"><div class=\"sk-item\"><div class=\"sk-label-container\"><div class=\"sk-label sk-toggleable\"><input class=\"sk-toggleable__control sk-hidden--visually\" id=\"sk-estimator-id-5\" type=\"checkbox\" ><label for=\"sk-estimator-id-5\" class=\"sk-toggleable__label sk-toggleable__label-arrow\">estimator: DecisionTreeClassifier</label><div class=\"sk-toggleable__content\"><pre>DecisionTreeClassifier()</pre></div></div></div><div class=\"sk-serial\"><div class=\"sk-item\"><div class=\"sk-estimator sk-toggleable\"><input class=\"sk-toggleable__control sk-hidden--visually\" id=\"sk-estimator-id-6\" type=\"checkbox\" ><label for=\"sk-estimator-id-6\" class=\"sk-toggleable__label sk-toggleable__label-arrow\">DecisionTreeClassifier</label><div class=\"sk-toggleable__content\"><pre>DecisionTreeClassifier()</pre></div></div></div></div></div></div></div></div></div></div>"
      ],
      "text/plain": [
       "GridSearchCV(estimator=DecisionTreeClassifier(),\n",
       "             param_grid={'criterion': ['gini', 'entropy'],\n",
       "                         'max_features': [None, 'sqrt']},\n",
       "             scoring='accuracy', verbose=3)"
      ]
     },
     "execution_count": 10,
     "metadata": {},
     "output_type": "execute_result"
    }
   ],
   "source": [
    "parameters = {'criterion':['gini', 'entropy'], 'max_features':[None, \"sqrt\"]}\n",
    "tree = DecisionTreeClassifier()\n",
    "tree_grid = GridSearchCV(tree, parameters, scoring='accuracy', verbose=3)\n",
    "tree_grid.fit(x_train,y_train)"
   ]
  },
  {
   "cell_type": "code",
   "execution_count": 11,
   "id": "50246977",
   "metadata": {},
   "outputs": [
    {
     "name": "stdout",
     "output_type": "stream",
     "text": [
      "Najlepsze znalezione parametry dla drzewa decyzyjnego:\n",
      "{'criterion': 'gini', 'max_features': None}\n",
      "\n",
      "Wynik na zbiorze treningowym dla drzewa decyzyjnego: 0.3531382285767237\n",
      "Głębokość drzewa decyzyjnego: 30\n",
      "\n",
      "Metryki dla zbioru testowego dla drzewa decyzyjnego\n",
      "Dokładność: 0.3413173652694611\n",
      "Precyzja: [0.3908046  0.16176471 0.19847328 0.26130653 0.48066298]\n",
      "Czułość: [0.32535885 0.18644068 0.1884058  0.25870647 0.51785714]\n",
      "F1: [0.35509138 0.17322835 0.19330855 0.26       0.49856734]\n",
      "[[ 68  25  35  40  41]\n",
      " [ 25  22  22  18  31]\n",
      " [ 19  18  26  28  47]\n",
      " [ 25  36  19  52  69]\n",
      " [ 37  35  29  61 174]]\n",
      "╒═══════╤═══════╤═══════╤═══════╤═══════╕\n",
      "│ 0.391 │ 0.162 │ 0.198 │ 0.261 │ 0.481 │\n",
      "├───────┼───────┼───────┼───────┼───────┤\n",
      "│ 0.325 │ 0.186 │ 0.188 │ 0.259 │ 0.518 │\n",
      "├───────┼───────┼───────┼───────┼───────┤\n",
      "│ 0.355 │ 0.173 │ 0.193 │ 0.26  │ 0.499 │\n",
      "╘═══════╧═══════╧═══════╧═══════╧═══════╛\n",
      "Dokładność: 0.341\n",
      "preprocessing: [<PrepOption.NUMBERS: 7>, <PrepOption.RUBBISH: 6>, <PrepOption.INTERPUNCTION: 4>]\n",
      "\n",
      "max words: 8000\n"
     ]
    }
   ],
   "source": [
    "tree_classifier = tree_grid.best_estimator_\n",
    "best_tree_params = tree_grid.best_params_\n",
    "tree_train_score = tree_grid.best_score_\n",
    "\n",
    "print(f\"Najlepsze znalezione parametry dla drzewa decyzyjnego:\\n{best_tree_params}\\n\\n\"\\\n",
    "     f\"Wynik na zbiorze treningowym dla drzewa decyzyjnego: {tree_train_score}\\n\"\\\n",
    "     f\"Głębokość drzewa decyzyjnego: {tree_classifier.get_depth()}\\n\")\n",
    "\n",
    "\n",
    "metrics = Metrics(tree_classifier, predict_function)\n",
    "print(\"Metryki dla zbioru testowego dla drzewa decyzyjnego\")\n",
    "_ = metrics.accuracy(x_test, y_test)\n",
    "_ = metrics.precision(x_test, y_test)\n",
    "_ = metrics.recall(x_test, y_test)\n",
    "_ = metrics.f1(x_test, y_test)\n",
    "\n",
    "metrics.print_confusion_matrix(x_test, y_test)\n",
    "metrics.print_metrics(x_test, y_test)\n",
    "\n",
    "print(f\"preprocessing: {options}\\n\\nmax words: {MAX_WORDS}\")"
   ]
  },
  {
   "cell_type": "code",
   "execution_count": null,
   "id": "681b8972",
   "metadata": {},
   "outputs": [],
   "source": []
  }
 ],
 "metadata": {
  "kernelspec": {
   "display_name": "Python 3 (ipykernel)",
   "language": "python",
   "name": "python3"
  },
  "language_info": {
   "codemirror_mode": {
    "name": "ipython",
    "version": 3
   },
   "file_extension": ".py",
   "mimetype": "text/x-python",
   "name": "python",
   "nbconvert_exporter": "python",
   "pygments_lexer": "ipython3",
   "version": "3.8.0"
  }
 },
 "nbformat": 4,
 "nbformat_minor": 5
}
