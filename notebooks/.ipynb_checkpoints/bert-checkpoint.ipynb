{
 "cells": [
  {
   "cell_type": "code",
   "execution_count": 1,
   "id": "944ca965",
   "metadata": {},
   "outputs": [
    {
     "name": "stderr",
     "output_type": "stream",
     "text": [
      "2022-10-18 00:44:15.279222: I tensorflow/core/platform/cpu_feature_guard.cc:193] This TensorFlow binary is optimized with oneAPI Deep Neural Network Library (oneDNN) to use the following CPU instructions in performance-critical operations:  AVX2 FMA\n",
      "To enable them in other operations, rebuild TensorFlow with the appropriate compiler flags.\n",
      "/Users/wojciechzyla/Desktop/AGH/praca_inz/praca_inzynierska/env_inz/lib/python3.8/site-packages/tensorflow_addons/utils/ensure_tf_install.py:53: UserWarning: Tensorflow Addons supports using Python ops for all Tensorflow versions above or equal to 2.7.0 and strictly below 2.10.0 (nightly versions are not supported). \n",
      " The versions of TensorFlow you are currently using is 2.10.0 and is not supported. \n",
      "Some things might work, some things might not.\n",
      "If you were to encounter a bug, do not file an issue.\n",
      "If you want to make sure you're using a tested and supported configuration, either change the TensorFlow version or the TensorFlow Addons's version. \n",
      "You can find the compatibility matrix in TensorFlow Addon's readme:\n",
      "https://github.com/tensorflow/addons\n",
      "  warnings.warn(\n"
     ]
    }
   ],
   "source": [
    "import os\n",
    "import sys\n",
    "module_path = os.path.abspath(os.path.join('..'))\n",
    "if module_path not in sys.path:\n",
    "    sys.path.append(module_path)\n",
    "import shutil\n",
    "import tensorflow as tf\n",
    "import tensorflow_hub as hub\n",
    "import tensorflow_text as text\n",
    "from official.nlp import optimization  # to create AdamW optimizer\n",
    "from bert_models import map_name_to_handle, map_model_to_preprocess\n",
    "from preprocessing import preprocess_and_make_dir, P_type, remove_dir\n",
    "\n",
    "\n",
    "import matplotlib.pyplot as plt\n",
    "\n",
    "tf.get_logger().setLevel('ERROR')"
   ]
  },
  {
   "cell_type": "code",
   "execution_count": 2,
   "id": "9b789289",
   "metadata": {},
   "outputs": [
    {
     "name": "stdout",
     "output_type": "stream",
     "text": [
      "1 ['/Users/wojciechzyla/Desktop/AGH/praca_inz/praca_inzynierska/bbc-text/train/sport/199.txt']\n",
      "0 []\n"
     ]
    }
   ],
   "source": [
    "current_dir = os.getcwd()\n",
    "base_dir = os.path.join(current_dir, 'bbc-text/train')\n",
    "peprocessed_dir = os.path.join(current_dir, 'preprocessed/train')\n",
    "\n",
    "options = [P_type.STOPWORDS, P_type.LOWERCASE, P_type.LEMMA]\n",
    "preprocess_and_make_dir(base_dir, peprocessed_dir, options)\n",
    "\n",
    "base_dir = os.path.join(current_dir, 'bbc-text/test')\n",
    "peprocessed_dir = os.path.join(current_dir, 'preprocessed/test')\n",
    "preprocess_and_make_dir(base_dir, peprocessed_dir, options)"
   ]
  },
  {
   "cell_type": "code",
   "execution_count": 3,
   "id": "9e910634",
   "metadata": {},
   "outputs": [
    {
     "name": "stdout",
     "output_type": "stream",
     "text": [
      "Found 1999 files belonging to 5 classes.\n",
      "Using 1600 files for training.\n"
     ]
    },
    {
     "name": "stderr",
     "output_type": "stream",
     "text": [
      "2022-10-18 00:44:38.630105: I tensorflow/core/platform/cpu_feature_guard.cc:193] This TensorFlow binary is optimized with oneAPI Deep Neural Network Library (oneDNN) to use the following CPU instructions in performance-critical operations:  AVX2 FMA\n",
      "To enable them in other operations, rebuild TensorFlow with the appropriate compiler flags.\n"
     ]
    },
    {
     "name": "stdout",
     "output_type": "stream",
     "text": [
      "Found 1999 files belonging to 5 classes.\n",
      "Using 399 files for validation.\n",
      "Found 225 files belonging to 5 classes.\n"
     ]
    }
   ],
   "source": [
    "AUTOTUNE = tf.data.AUTOTUNE\n",
    "batch_size = 32\n",
    "seed = 42\n",
    "\n",
    "raw_train_ds = tf.keras.utils.text_dataset_from_directory(\n",
    "    'preprocessed/train',\n",
    "    batch_size=batch_size,\n",
    "    validation_split=0.2,\n",
    "    subset='training',\n",
    "    seed=seed)\n",
    "\n",
    "class_names = raw_train_ds.class_names\n",
    "train_ds = raw_train_ds.cache().prefetch(buffer_size=AUTOTUNE)\n",
    "\n",
    "val_ds = tf.keras.utils.text_dataset_from_directory(\n",
    "    'preprocessed/train',\n",
    "    batch_size=batch_size,\n",
    "    validation_split=0.2,\n",
    "    subset='validation',\n",
    "    seed=seed)\n",
    "\n",
    "val_ds = val_ds.cache().prefetch(buffer_size=AUTOTUNE)\n",
    "\n",
    "test_ds = tf.keras.utils.text_dataset_from_directory(\n",
    "    'preprocessed/test',\n",
    "    batch_size=batch_size)\n",
    "\n",
    "test_ds = test_ds.cache().prefetch(buffer_size=AUTOTUNE)"
   ]
  },
  {
   "cell_type": "code",
   "execution_count": 4,
   "id": "bab997a9",
   "metadata": {},
   "outputs": [
    {
     "data": {
      "text/plain": [
       "\"for text_batch, label_batch in train_ds.take(1):\\n    print(text_batch.numpy().shape)\\n    for i in range(3):\\n        print(f'Review: {text_batch.numpy()[i]}')\\n        label = label_batch.numpy()[i]\\n        print(f'Label : {label} ({class_names[label]})')\""
      ]
     },
     "execution_count": 4,
     "metadata": {},
     "output_type": "execute_result"
    }
   ],
   "source": [
    "\"\"\"for text_batch, label_batch in train_ds.take(1):\n",
    "    print(text_batch.numpy().shape)\n",
    "    for i in range(3):\n",
    "        print(f'Review: {text_batch.numpy()[i]}')\n",
    "        label = label_batch.numpy()[i]\n",
    "        print(f'Label : {label} ({class_names[label]})')\"\"\"\n"
   ]
  },
  {
   "cell_type": "code",
   "execution_count": 5,
   "id": "4ad00185",
   "metadata": {},
   "outputs": [
    {
     "name": "stdout",
     "output_type": "stream",
     "text": [
      "BERT model selected           : https://tfhub.dev/tensorflow/small_bert/bert_en_uncased_L-4_H-512_A-8/1\n",
      "Preprocess model auto-selected: https://tfhub.dev/tensorflow/bert_en_uncased_preprocess/3\n"
     ]
    }
   ],
   "source": [
    "bert_model_name = 'small_bert/bert_en_uncased_L-4_H-512_A-8' \n",
    "\n",
    "tfhub_handle_encoder = map_name_to_handle[bert_model_name]\n",
    "tfhub_handle_preprocess = map_model_to_preprocess[bert_model_name]\n",
    "\n",
    "print(f'BERT model selected           : {tfhub_handle_encoder}')\n",
    "print(f'Preprocess model auto-selected: {tfhub_handle_preprocess}')\n"
   ]
  },
  {
   "cell_type": "code",
   "execution_count": 6,
   "id": "b6535071",
   "metadata": {},
   "outputs": [],
   "source": [
    "bert_preprocess_model = hub.KerasLayer(tfhub_handle_preprocess)"
   ]
  },
  {
   "cell_type": "code",
   "execution_count": 7,
   "id": "0d2e3e4a",
   "metadata": {},
   "outputs": [
    {
     "name": "stdout",
     "output_type": "stream",
     "text": [
      "Keys       : ['input_mask', 'input_type_ids', 'input_word_ids']\n",
      "Shape      : (1, 128)\n",
      "Word Ids   : [ 101 2023 2003 2107 2019 6429 3185  999  102    0    0    0]\n",
      "Input Mask : [1 1 1 1 1 1 1 1 1 0 0 0]\n",
      "Type Ids   : [0 0 0 0 0 0 0 0 0 0 0 0]\n"
     ]
    }
   ],
   "source": [
    "text_test = ['this is such an amazing movie!']\n",
    "text_preprocessed = bert_preprocess_model(text_test)\n",
    "\n",
    "print(f'Keys       : {list(text_preprocessed.keys())}')\n",
    "print(f'Shape      : {text_preprocessed[\"input_word_ids\"].shape}')\n",
    "print(f'Word Ids   : {text_preprocessed[\"input_word_ids\"][0, :12]}')\n",
    "print(f'Input Mask : {text_preprocessed[\"input_mask\"][0, :12]}')\n",
    "print(f'Type Ids   : {text_preprocessed[\"input_type_ids\"][0, :12]}')"
   ]
  },
  {
   "cell_type": "code",
   "execution_count": 8,
   "id": "af0d4ffe",
   "metadata": {},
   "outputs": [],
   "source": [
    "bert_model = hub.KerasLayer(tfhub_handle_encoder)"
   ]
  },
  {
   "cell_type": "code",
   "execution_count": 9,
   "id": "720e512e",
   "metadata": {},
   "outputs": [
    {
     "name": "stdout",
     "output_type": "stream",
     "text": [
      "Loaded BERT: https://tfhub.dev/tensorflow/small_bert/bert_en_uncased_L-4_H-512_A-8/1\n",
      "Pooled Outputs Shape:(1, 512)\n",
      "Pooled Outputs Values:[ 0.76262873  0.9928099  -0.18611842  0.36673835  0.15233713  0.6550445\n",
      "  0.9681154  -0.94862705  0.00216199 -0.9877732   0.06842697 -0.97630596]\n",
      "Sequence Outputs Shape:(1, 128, 512)\n",
      "Sequence Outputs Values:[[-0.28946307  0.3432126   0.33231524 ...  0.21300834  0.71020776\n",
      "  -0.05771159]\n",
      " [-0.28742072  0.31980997 -0.23018596 ...  0.5845511  -0.21329741\n",
      "   0.7269215 ]\n",
      " [-0.66157013  0.6887673  -0.8743302  ...  0.10877225 -0.26173237\n",
      "   0.47855318]\n",
      " ...\n",
      " [-0.22561178 -0.2892561  -0.07064433 ...  0.4756602   0.83277094\n",
      "   0.4002539 ]\n",
      " [-0.29824233 -0.27473113 -0.05450515 ...  0.48849773  1.0955355\n",
      "   0.18163365]\n",
      " [-0.4437818   0.00930784  0.07223748 ...  0.17290097  1.183325\n",
      "   0.07897963]]\n"
     ]
    }
   ],
   "source": [
    "bert_results = bert_model(text_preprocessed)\n",
    "\n",
    "print(f'Loaded BERT: {tfhub_handle_encoder}')\n",
    "print(f'Pooled Outputs Shape:{bert_results[\"pooled_output\"].shape}')\n",
    "print(f'Pooled Outputs Values:{bert_results[\"pooled_output\"][0, :12]}')\n",
    "print(f'Sequence Outputs Shape:{bert_results[\"sequence_output\"].shape}')\n",
    "print(f'Sequence Outputs Values:{bert_results[\"sequence_output\"][0, :12]}')"
   ]
  },
  {
   "cell_type": "code",
   "execution_count": 10,
   "id": "e4955823",
   "metadata": {},
   "outputs": [],
   "source": [
    "def build_classifier_model():\n",
    "    text_input = tf.keras.layers.Input(shape=(), dtype=tf.string, name='text')\n",
    "    preprocessing_layer = hub.KerasLayer(tfhub_handle_preprocess, name='preprocessing')\n",
    "    encoder_inputs = preprocessing_layer(text_input)\n",
    "    encoder = hub.KerasLayer(tfhub_handle_encoder, trainable=True, name='BERT_encoder')\n",
    "    outputs = encoder(encoder_inputs)\n",
    "    net = outputs['pooled_output']\n",
    "    net = tf.keras.layers.Dropout(0.1)(net)\n",
    "    net = tf.keras.layers.Dense(10, activation=\"relu\", name='hidden')(net)\n",
    "    net = tf.keras.layers.Dense(5, activation=None, name='classifier')(net)\n",
    "    return tf.keras.Model(text_input, net)\n"
   ]
  },
  {
   "cell_type": "code",
   "execution_count": 11,
   "id": "f0f3b167",
   "metadata": {},
   "outputs": [
    {
     "name": "stdout",
     "output_type": "stream",
     "text": [
      "tf.Tensor([[0.82753026 0.39498016 0.49823707 0.7116989  0.6994909 ]], shape=(1, 5), dtype=float32)\n"
     ]
    }
   ],
   "source": [
    "classifier_model = build_classifier_model()\n",
    "bert_raw_result = classifier_model(tf.constant(text_test))\n",
    "print(tf.sigmoid(bert_raw_result))"
   ]
  },
  {
   "cell_type": "code",
   "execution_count": 12,
   "id": "42962059",
   "metadata": {},
   "outputs": [],
   "source": [
    "#tf.keras.utils.plot_model(classifier_model)"
   ]
  },
  {
   "cell_type": "code",
   "execution_count": 13,
   "id": "1a7e9a96",
   "metadata": {},
   "outputs": [],
   "source": [
    "loss = tf.keras.losses.SparseCategoricalCrossentropy(from_logits=True)\n",
    "metrics = tf.metrics.SparseCategoricalAccuracy()"
   ]
  },
  {
   "cell_type": "code",
   "execution_count": 14,
   "id": "25215846",
   "metadata": {},
   "outputs": [],
   "source": [
    "epochs = 5\n",
    "steps_per_epoch = tf.data.experimental.cardinality(train_ds).numpy()\n",
    "num_train_steps = steps_per_epoch * epochs\n",
    "num_warmup_steps = int(0.1*num_train_steps)\n",
    "\n",
    "init_lr = 3e-5\n",
    "optimizer = optimization.create_optimizer(init_lr=init_lr,\n",
    "                                          num_train_steps=num_train_steps,\n",
    "                                          num_warmup_steps=1,\n",
    "                                          optimizer_type='adamw')"
   ]
  },
  {
   "cell_type": "code",
   "execution_count": 15,
   "id": "89bd9581",
   "metadata": {},
   "outputs": [],
   "source": [
    "lr_schedule = tf.keras.optimizers.schedules.PolynomialDecay(\n",
    "      initial_learning_rate=init_lr,\n",
    "      decay_steps=num_train_steps,\n",
    "      end_learning_rate=0.0)\n",
    "\n",
    "opt = tf.keras.optimizers.experimental.AdamW(learning_rate=lr_schedule)\n",
    "\n",
    "classifier_model.compile(optimizer=optimizer,\n",
    "                         loss=loss,\n",
    "                         metrics=metrics)"
   ]
  },
  {
   "cell_type": "code",
   "execution_count": 16,
   "id": "e1dcd493",
   "metadata": {},
   "outputs": [
    {
     "name": "stdout",
     "output_type": "stream",
     "text": [
      "Training model with https://tfhub.dev/tensorflow/small_bert/bert_en_uncased_L-4_H-512_A-8/1\n",
      "Epoch 1/5\n",
      "50/50 [==============================] - 138s 3s/step - loss: 0.9851 - sparse_categorical_accuracy: 0.5781 - val_loss: 0.4310 - val_sparse_categorical_accuracy: 0.9223\n",
      "Epoch 2/5\n",
      "50/50 [==============================] - 134s 3s/step - loss: 0.3027 - sparse_categorical_accuracy: 0.9438 - val_loss: 0.2223 - val_sparse_categorical_accuracy: 0.9724\n",
      "Epoch 3/5\n",
      "50/50 [==============================] - 136s 3s/step - loss: 0.1777 - sparse_categorical_accuracy: 0.9719 - val_loss: 0.1608 - val_sparse_categorical_accuracy: 0.9749\n",
      "Epoch 4/5\n",
      "50/50 [==============================] - 133s 3s/step - loss: 0.1202 - sparse_categorical_accuracy: 0.9856 - val_loss: 0.1336 - val_sparse_categorical_accuracy: 0.9774\n",
      "Epoch 5/5\n",
      "50/50 [==============================] - 144s 3s/step - loss: 0.0923 - sparse_categorical_accuracy: 0.9912 - val_loss: 0.1219 - val_sparse_categorical_accuracy: 0.9774\n"
     ]
    }
   ],
   "source": [
    "print(f'Training model with {tfhub_handle_encoder}')\n",
    "history = classifier_model.fit(x=train_ds,\n",
    "                               validation_data=val_ds,\n",
    "                               epochs=epochs)"
   ]
  },
  {
   "cell_type": "code",
   "execution_count": 17,
   "id": "6adb827e",
   "metadata": {},
   "outputs": [
    {
     "name": "stdout",
     "output_type": "stream",
     "text": [
      "8/8 [==============================] - 5s 658ms/step - loss: 0.0812 - sparse_categorical_accuracy: 0.9867\n",
      "Loss: 0.0812179371714592\n",
      "Accuracy: 0.9866666793823242\n"
     ]
    }
   ],
   "source": [
    "loss, accuracy = classifier_model.evaluate(test_ds)\n",
    "\n",
    "print(f'Loss: {loss}')\n",
    "print(f'Accuracy: {accuracy}')"
   ]
  },
  {
   "cell_type": "code",
   "execution_count": 18,
   "id": "4e3324de",
   "metadata": {},
   "outputs": [
    {
     "name": "stdout",
     "output_type": "stream",
     "text": [
      "dict_keys(['loss', 'sparse_categorical_accuracy', 'val_loss', 'val_sparse_categorical_accuracy'])\n"
     ]
    },
    {
     "data": {
      "text/plain": [
       "<matplotlib.legend.Legend at 0x7f7f547a1100>"
      ]
     },
     "execution_count": 18,
     "metadata": {},
     "output_type": "execute_result"
    },
    {
     "data": {
      "image/png": "[encoded data removed]",
      "text/plain": [
       "<Figure size 1000x600 with 2 Axes>"
      ]
     },
     "metadata": {},
     "output_type": "display_data"
    }
   ],
   "source": [
    "history_dict = history.history\n",
    "print(history_dict.keys())\n",
    "\n",
    "acc = history_dict['sparse_categorical_accuracy']\n",
    "val_acc = history_dict['val_sparse_categorical_accuracy']\n",
    "loss = history_dict['loss']\n",
    "val_loss = history_dict['val_loss']\n",
    "\n",
    "epochs = range(1, len(acc) + 1)\n",
    "fig = plt.figure(figsize=(10, 6))\n",
    "fig.tight_layout()\n",
    "\n",
    "plt.subplot(2, 1, 1)\n",
    "# r is for \"solid red line\"\n",
    "plt.plot(epochs, loss, 'r', label='Training loss')\n",
    "# b is for \"solid blue line\"\n",
    "plt.plot(epochs, val_loss, 'b', label='Validation loss')\n",
    "plt.title('Training and validation loss')\n",
    "# plt.xlabel('Epochs')\n",
    "plt.ylabel('Loss')\n",
    "plt.legend()\n",
    "\n",
    "plt.subplot(2, 1, 2)\n",
    "plt.plot(epochs, acc, 'r', label='Training acc')\n",
    "plt.plot(epochs, val_acc, 'b', label='Validation acc')\n",
    "plt.title('Training and validation accuracy')\n",
    "plt.xlabel('Epochs')\n",
    "plt.ylabel('Accuracy')\n",
    "plt.legend(loc='lower right')"
   ]
  },
  {
   "cell_type": "code",
   "execution_count": 19,
   "id": "c531d32d",
   "metadata": {},
   "outputs": [
    {
     "data": {
      "text/plain": [
       "\"dataset_name = 'bbx-text'\\nsaved_model_path = './{}_bert'.format(dataset_name.replace('/', '_'))\\n\\nclassifier_model.save(saved_model_path, include_optimizer=False)\""
      ]
     },
     "execution_count": 19,
     "metadata": {},
     "output_type": "execute_result"
    }
   ],
   "source": [
    "\"\"\"dataset_name = 'bbx-text'\n",
    "saved_model_path = './{}_bert'.format(dataset_name.replace('/', '_'))\n",
    "\n",
    "classifier_model.save(saved_model_path, include_optimizer=False)\"\"\""
   ]
  },
  {
   "cell_type": "code",
   "execution_count": 20,
   "id": "a42c5cb3",
   "metadata": {},
   "outputs": [
    {
     "name": "stdout",
     "output_type": "stream",
     "text": [
      "text id: 0 | val: 0.9981156587600708, class: sport\n",
      "text id: 1 | val: 0.9966623783111572, class: sport\n",
      "text id: 2 | val: 0.9983329772949219, class: business\n",
      "text id: 3 | val: 0.925213634967804, class: business\n",
      "text id: 4 | val: 0.952224850654602, class: entertainment\n",
      "text id: 5 | val: 0.9501528143882751, class: entertainment\n",
      "text id: 6 | val: 0.996894359588623, class: tech\n",
      "text id: 7 | val: 0.9996732473373413, class: business\n"
     ]
    }
   ],
   "source": [
    "examples = [\n",
    "    \"\"\"\n",
    "    The United States defend the Presidents Cup at Quail Hollow this week in a match that has, indisputably, been affected by the advent of the breakaway LIV tour.\n",
    "\n",
    "Trevor Immelman's International side (the rest of the world outside Europe and US) are chasing what would be only their second win since the cup's inception in 1994.\n",
    "\n",
    "Ordinarily they might have been an attractive bet, had the likes of Open champion Cameron Smith, the exciting Chilean Joaquin Niemann and Mexico's Abraham Ancer been available for selection.\n",
    "\n",
    "But all three have moved to Greg Norman's Saudi Arabian-funded start-up and with the Presidents Cup being a PGA Tour event, they are no longer welcome. Add to that list Louis Oosthuizen, Marc Leishman and Branden Grace.\n",
    "\n",
    "The US are also missing big hitters. Dustin Johnson, who won all five matches at the last Ryder Cup, is on the ineligible roster along with Brooks Koepka and Bryson DeChambeau, but the effect on Davis Love III's team is less marked.\n",
    "\n",
    "\"Our first 12 is really good, and our second 12 is really good,\" Love noted ahead of the match which starts in Charlotte, North Carolina, on Thursday.\n",
    "\n",
    "\"Trevor's problem is his first 12 was really good and the second 12 was maybe not quite as good. We have always had the depth.\"\n",
    "    \"\"\",\n",
    "    \n",
    "    \"\"\"\n",
    "    Atletico Madrid have condemned \"unacceptable\" chants by a \"minority\" of fans towards Real Madrid's Vinicius Junior outside their stadium before Sunday's La Liga derby.\n",
    "\n",
    "Some fans sang racist songs\n",
    "\n",
    "when entering Wanda Metropolitano before Real's 2-1 win.\n",
    "\n",
    "Atletico say they will co-operate in an investigation by the authorities.\n",
    "\n",
    "\"These chants provoke enormous repulsion and indignation,\" an Atletico Madrid statement read.\n",
    "\n",
    "\"We will not allow any individual to hide behind our colours to utter insults of a racist or xenophobic nature.\"\n",
    "\n",
    "On Monday, La Liga condemned \"hate speech\" and said it will work with authorities \"to identify and bring to justice\" the culprits.\n",
    "\n",
    "Sunday's abuse followed on from comments by some pundits in Spain recently criticising Vinicius' goal celebration, in which he dances by corner flag.\n",
    "\n",
    "The 22-year-old Brazil forward responded on Friday, saying \"the happiness of a black Brazilian in Europe\" was behind recent criticism.\n",
    "\n",
    "Atletico Madrid have asked the authorities to identify the fans who participated in the chanting so they could proceed with their \"immediate expulsion\" from the club.\n",
    "\n",
    "The statement added: \"Our club has always been known for being an open and inclusive space for fans of different nationalities, cultures, races, and social classes, and a few cannot tarnish the image of thousands and thousands of Atleti fans who support their team with passion and respect for their opponents.\n",
    "\n",
    "\"We have zero tolerance for racism, our commitment to the fight against this social scourge is total, and we will not stop until we eliminate it.\n",
    "\n",
    "\"The pain felt by the red and white family for this event is enormous. We cannot allow anyone to link our fans with this behaviour and question our values because of a minority that does not represent us.\"\n",
    "\n",
    "Agent Pedro Bravo said during a Spanish television discussion on Vinicius that \"in Spain, you have to respect rivals and stop playing the monkey\", leading to accusations of racism. He has since apologised.\n",
    "\n",
    "Brazil international Vinicius, who has scored five goals in eight games for the European champions so far this season, listed other stars who danced in their celebrations in a statement on Friday.\n",
    "Vinicius was supported by several Brazilian football stars on social media, including Pele and Neymar, while Real Madrid also released a statement condemning the pundit's comments on Friday.\n",
    "    \"\"\", \n",
    "    \"\"\"\n",
    "    Rich economies should hit oil and gas companies with new windfall taxes to provide help for countries suffering from climate change, and people struggling with soaring energy and food bills, UN Secretary General António Guterres said Tuesday.\n",
    "The UN chief accused energy giants of \"feasting on hundreds of billions of dollars in subsidies and windfall profits while household budgets shrink and our planet burns.\"\n",
    "Guterres' comments, at the UN General Assembly in New York, come on the heels of a European Union proposal to introduce a windfall tax on oil, gas and coal companies, many of which have reported record-high profits as Russia's war in Ukraine and an energy crunch send prices soaring.\n",
    "\n",
    "The European Commission is proposing that EU states take a 33% share of the companies' surplus profits. The United Kingdom introduced a 25% windfall tax earlier this year to provide relief for people struggling with their energy bills but newly installed Prime Minister Liz Truss has said she won't extend it to pay for a much bigger program of subsidies this winter and next. US President Joe Biden's administration mulled the idea in the summer but it gained little momentum.\n",
    "\n",
    "\"Today, I am calling on all developed economies to tax the windfall profits of fossil fuel companies,\" Guterres told the Assembly. \"Those funds should be redirected in two ways: to countries suffering loss and damage caused by the climate crisis, and to people struggling with rising food and energy prices.\"\n",
    "His comments also come as parts of the world are battered by extreme weather events supercharged by the human-induced climate crisis. More than 1,500 people died in Pakistan over three months of extreme monsoonal rain that scientists have linked to climate change. More than 300 people have died in floods in Nigeria this year, disaster management authorities there say.\n",
    "Typhoons and hurricanes have brought floods to Puerto Rico, the Dominican Republic and Japan this week. Drought is impacting vast swathes of the United States, China and Europe.\n",
    "    \"\"\"\n",
    "    , \n",
    "    \"\"\"\n",
    "    The Department of Homeland Security's cybersecurity agency this summer turned down a multimillion-dollar proposal to protect election officials from harassment ahead of the midterm elections, multiple people familiar with the matter told CNN.\n",
    "The plan's rejection comes as some DHS and cyber officials have expressed concern about their work to stem disinformation being cast as \"partisan,\" according to multiple people familiar with DHS policy discussions. Last month, DHS shut down its high-profile Disinformation Governance Board after Republicans criticized the expert chosen to lead the board as being overly partisan.\n",
    "\"DHS got very spooked after the failed rollout of the Disinformation Governance Board, even though the message [from administration officials] was clear that we can't back down, we can't be bullied by the right,\" a senior US official told CNN.\n",
    "\n",
    "The proposal, which was made by a federally funded nonprofit, also included plans to track foreign influence activity and modestly increase resources for reporting domestic mis- and disinformation related to voting.\n",
    "\n",
    "DHS officials had legal concerns about the plan's scope and whether it could be in place for November, the people said. But the decision not to adopt the anti-harassment part of the proposal has drawn frustration from at least two election officials as their colleagues nationwide continue to face an unprecedented wave of violent threats often inspired by online misinformation.\n",
    "Election work have reported over 1,000 interactions with the public that they considered hostile or threatening to a Justice Department task force, but that is likely just a fraction of the threatening behavior that has occurred since 2020.\n",
    "The episode also underscores how less than two months before November's election, the federal government is struggling to find an effective strategy to combat false information about the voting process and the harassment of election workers, leaving many of them feeling unprotected. \n",
    "    \"\"\", \n",
    "    \"\"\"\n",
    "    The meta aspects of a Hulu comedy about the making of a Hulu comedy quickly pile up in \"Reboot,\" a fictional show about reviving a series from the early 2000s, reuniting the cast and crew with all their insecurities and old grudges. Created by \"Modern Family's\" Steve Levitan, it's a breezy and very-inside look at Hollywood, with a few too many rim shots but still a fair amount of laughs.\n",
    "Network suits at Hulu (that is, the show's fictional version of it) are a bit confused when a hot indie film writer, Hannah (\"Crazy Ex-girlfriend's\" Rachel Bloom), comes in to pitch a reboot of something called \"Step Right Up!\" Instead of some original idea, why would she want to give an old \"Who's the Boss?\"-esque sitcom a more artistic makeover?\n",
    "She has her reasons, and finds the cast perhaps not surprisingly eager to reprise their roles, mostly for those sweet paychecks. Yet she's horrified when the package comes to include the original producer, Gordon (Paul Reiser, stealing scenes right and left), the proverbial bull in a china shop with very different ideas about how his baby should be treated.\n",
    "\n",
    "Among the cast, there's romantic history between Reed (Keegan-Michael Key, in an improvement upon his last showbiz satire, the movie-about-a-movie \"The Bubble\") and Bree (Judy Greer); a sordid past for stand-up-turned-actor Clay (Johnny Knoxville); and a host of issues regarding now-grown-up child star Zach (Calum Worthy), starting with the fact his mom still insists on hanging out around the set.\n",
    "\n",
    "Levitan gets ample mileage out of the clash between old and new, with the dinosaurs that Gordon hires for the writing staff constantly saying non-HR-friendly things to Hannah's younger, more diverse additions. Plus, the network has insisted on casting a reality-TV star (\"The Sex Lives of College Girls'\" Alyah Chanelle Scott) whose social-media following is much better developed than her acting skills, which explains why she keeps reading the stage directions as if they were dialogue.\n",
    "Some of the jokes are a bit too obvious, such as the network's youthfully earnest VP of comedy (Krista Marie Yu) saying, \"I'm new to humor.\" Others can be almost painfully inside baseball, unless of course you can relate to resenting sitcom heavyweight Chuck Lorre for producing so many shows that he squeezes out other creators.\n",
    "Then again, that's part of the latitude that streaming allows, and other elements, like the inter-generational conflict, prove frequently funny, and occasionally a little bit sweet. (Yes, the \"Seinfeld\" \"No hugging, no learning\" rule is sometimes violated, though seldom for long.)\n",
    "\n",
    "Levitan actually created a series about a sitcom 20 years ago for Fox (\"Greg the Bunny,\" we hardly knew ye), so give him credit for giving the underlying concept another try in what should be a more hospitable time and place.\n",
    "    \"\"\",\n",
    "    \"\"\"\n",
    "    The Golden Globes are coming back to television.\n",
    "After holding an untelevised event earlier this year due to a diversity and ethics controversy, the Hollywood Foreign Press Association, dick clark productions and NBC said on Tuesday that the show will be coming back to television on Tuesday, January 10, 2023.\n",
    "\"We recognize the HFPA's commitment to ongoing change and look forward to welcoming back the Golden Globes to NBC for its landmark 80th Anniversary in January 2023,\" Frances Berwick, chairman of entertainment networks for NBCUniversal television and streaming, said in a statement.\n",
    "\n",
    "NBC had announced in 2021 that it would temporarily end a decades-long relationship and not carry the 2022 ceremony after controversy mounted over the Hollywood Foreign Press Association's lack of diversity and ethical questions related to financial benefits given to some members, such as a hotel stay in connection with an \"Emily in Paris\" junket.\n",
    "\n",
    "The HFPA has since been working to rebuild its reputation.\n",
    "The release announcing the show's return said this year's show is part of a \"one-year agreement, which allows the HFPA and dcp to explore new opportunities for domestic and global distribution across a variety of platforms in the future.\"\n",
    "\"The HFPA remains committed to important changes and supporting programs which prioritize diversity, inclusion, and transparency,\" Helen Hoehne, president of the HFPA, said in a statement.\n",
    "\n",
    "The HFPA has in recent months added 103 new voters and touted in a press release that its voting body is \"now 52% female\" and \"51.5% racially and ethnically diverse.\"\n",
    "Nominations for the 80th Golden Globe Awards be announced on December 12, 2022.\n",
    "    \"\"\",\n",
    "    \"\"\"\n",
    "    Even when users tell YouTube they aren’t interested in certain types of videos, similar recommendations keep coming, a new study by Mozilla found.\n",
    "\n",
    "Using video recommendations data from more than 20,000 YouTube users, Mozilla researchers found that buttons like “not interested,” “dislike,” “stop recommending channel,” and “remove from watch history” are largely ineffective at preventing similar content from being recommended. Even at their best, these buttons still allow through more than half the recommendations similar to what a user said they weren’t interested in, the report found. At their worst, the buttons barely made a dent in blocking similar videos.\n",
    "\n",
    "To collect data from real videos and users, Mozilla researchers enlisted volunteers who used the foundation’s RegretsReporter, a browser extension that overlays a general “stop recommending” button to YouTube videos viewed by participants. On the back end, users were randomly assigned a group, so different signals were sent to YouTube each time they clicked the button placed by Mozilla — dislike, not interested, don’t recommend channel, remove from history, and a control group for whom no feedback was sent to the platform.\n",
    "\n",
    "Using data collected from over 500 million recommended videos, research assistants created over 44,000 pairs of videos — one “rejected” video, plus a video subsequently recommended by YouTube. Researchers then assessed pairs themselves or used machine learning to decide whether the recommendation was too similar to the video a user rejected.\n",
    "\n",
    "Compared to the baseline control group, sending the “dislike” and “not interested” signals were only “marginally effective” at preventing bad recommendations, preventing 12 percent of 11 percent of bad recommendations, respectively. “Don’t recommend channel” and “remove from history” buttons were slightly more effective — they prevented 43 percent and 29 percent of bad recommendations — but researchers say the tools offered by the platform are still inadequate for steering away unwanted content.\n",
    "\n",
    "“YouTube should respect the feedback users share about their experience, treating them as meaningful signals about how people want to spend their time on the platform,” researchers write.\n",
    "\n",
    "YouTube spokesperson Elena Hernandez says these behaviors are intentional because the platform doesn’t try to block all content related to a topic. But Hernandez criticized the report, saying it doesn’t consider how YouTube’s controls are designed.\n",
    "\n",
    "“Importantly, our controls do not filter out entire topics or viewpoints, as this could have negative effects for viewers, like creating echo chambers,” Hernandez told The Verge. “We welcome academic research on our platform, which is why we recently expanded Data API access through our YouTube Researcher Program. Mozilla’s report doesn’t take into account how our systems actually work, and therefore it’s difficult for us to glean many insights.” \n",
    "\n",
    "Hernandez says Mozilla’s definition of “similar” fails to consider how YouTube’s recommendation system works. The “not interested” option removes a specific video, and the “don’t recommend channel” button prevents the channel from being recommended in the future, Hernandez says. The company says it doesn’t seek to stop recommendations of all content related to a topic, opinion, or speaker.\n",
    "\n",
    "Besides YouTube, other platforms like TikTok and Instagram have introduced more and more feedback tools for users to train the algorithm, supposedly, to show them relevant content. But users often complain that even when flagging that they don’t want to see something, similar recommendations persist. It’s not always clear what different controls actually do, Mozilla researcher Becca Ricks says, and platforms aren’t transparent about how feedback is taken into account.\n",
    "\n",
    "“I think that in the case of YouTube, the platform is balancing user engagement with user satisfaction, which is ultimately a tradeoff between recommending content that leads people to spend more time on the site and content the algorithm thinks people will like,” Ricks told The Verge via email. “The platform has the power to tweak which of these signals get the most weight in its algorithm, but our study suggests that user feedback may not always be the most important one.”\n",
    "    \"\"\",\n",
    "    \"\"\"\n",
    "    Corporate America is starting to brace for a recession. Economic bellwether FedEx (FDX) stunned Wall Street last week with a massive earnings warning and tepid outlook for the global economy.\n",
    "FedEx's bad news overshadowed a more promising development on Thursday, the agreement between railroad operators and unions to avoid what could have been a crippling freight rail strike.\n",
    "Still, investors remain nervous about the health of the railroad business, a sign of the jitters about the overall economy. Shares of top rail operators Union Pacific (UNP), CSX (CSX) and Norfolk Southern (NSC) are down sharply this year. Even Warren Buffett's Berkshire Hathaway (BRKB), which owns Burlington Northern Santa Fe, has taken a dip lately.\n",
    "\n",
    "But FedEx isn't the only company sounding the recession alarm bell. In an unusually dour earnings call earlier this month, the CEO of high-end furnishings retailer RH (RH) (aka Restoration Hardware) said that \"anybody who thinks we're not in a recession is crazy\" and added that the housing market is in a downturn that is \"just getting started.\"\n",
    "\n",
    "The chief financial officer of Best Buy (BBY) said at the end of August that he expects sales growth will continue to slow. And while the company avoided using the term recession, Best Buy's CFO did say there is \"a belief that the current macro environment trends could be even more challenging ... for the remainder of the year.\"\n",
    "    \"\"\"\n",
    "]\n",
    "\n",
    "def predicted_class(inputs, results, class_names):\n",
    "    for i in range(len(inputs)):\n",
    "        idx = int(tf.math.argmax(results[i]))\n",
    "        val = tf.math.reduce_max(results[i])\n",
    "        print(f\"text id: {i} | val: {val}, class: {class_names[idx]}\")\n",
    "\n",
    "original_results = tf.sigmoid(classifier_model(tf.constant(examples)))\n",
    "predicted_class(examples, original_results, class_names)"
   ]
  },
  {
   "cell_type": "code",
   "execution_count": 22,
   "id": "f889cd34",
   "metadata": {},
   "outputs": [
    {
     "ename": "TypeError",
     "evalue": "remove_dir() takes 1 positional argument but 2 were given",
     "output_type": "error",
     "traceback": [
      "\u001b[0;31m---------------------------------------------------------------------------\u001b[0m",
      "\u001b[0;31mTypeError\u001b[0m                                 Traceback (most recent call last)",
      "Cell \u001b[0;32mIn [22], line 2\u001b[0m\n\u001b[1;32m      1\u001b[0m current_dir \u001b[38;5;241m=\u001b[39m os\u001b[38;5;241m.\u001b[39mgetcwd()\n\u001b[0;32m----> 2\u001b[0m \u001b[43mremove_dir\u001b[49m\u001b[43m(\u001b[49m\u001b[43mcurrent_dir\u001b[49m\u001b[43m,\u001b[49m\u001b[43m \u001b[49m\u001b[38;5;124;43m'\u001b[39;49m\u001b[38;5;124;43mpreprocessed\u001b[39;49m\u001b[38;5;124;43m'\u001b[39;49m\u001b[43m)\u001b[49m\n",
      "\u001b[0;31mTypeError\u001b[0m: remove_dir() takes 1 positional argument but 2 were given"
     ]
    }
   ],
   "source": [
    "current_dir = os.getcwd()\n",
    "remove_dir(os.path.join(current_dir, 'preprocessed'))"
   ]
  },
  {
   "cell_type": "code",
   "execution_count": null,
   "id": "c5fc58e1",
   "metadata": {},
   "outputs": [],
   "source": []
  }
 ],
 "metadata": {
  "kernelspec": {
   "display_name": "Python 3 (ipykernel)",
   "language": "python",
   "name": "python3"
  },
  "language_info": {
   "codemirror_mode": {
    "name": "ipython",
    "version": 3
   },
   "file_extension": ".py",
   "mimetype": "text/x-python",
   "name": "python",
   "nbconvert_exporter": "python",
   "pygments_lexer": "ipython3",
   "version": "3.8.0"
  }
 },
 "nbformat": 4,
 "nbformat_minor": 5
}
