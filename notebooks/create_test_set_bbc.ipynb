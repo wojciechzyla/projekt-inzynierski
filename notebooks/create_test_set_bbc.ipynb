{
 "cells": [
  {
   "cell_type": "markdown",
   "id": "d80141b3",
   "metadata": {},
   "source": [
    "## Ten skrypt służył do podziału dokumnetów z bbc na zbiory treningowe oraz testowe. Nie należy do uruchamiać, gdyż zmieni to zawartość folderów ze zbiorem testowym oraz treningowym"
   ]
  },
  {
   "cell_type": "code",
   "execution_count": 1,
   "id": "8a097b6c",
   "metadata": {},
   "outputs": [],
   "source": [
    "\"\"\"from sklearn.model_selection import train_test_split\n",
    "import os\"\"\""
   ]
  },
  {
   "cell_type": "code",
   "execution_count": 2,
   "id": "23fde502",
   "metadata": {},
   "outputs": [],
   "source": [
    "\"\"\"def number_of_files_in_dir(base_dir, classes=['entertainment', 'business', 'sport', 'politics', 'tech']):\n",
    "    txt = f\"Files in {base_dir}\\n\"\n",
    "    total = 0\n",
    "    for direct in os.listdir(base_dir):\n",
    "        if direct in classes:\n",
    "            class_dir = os.path.join(base_dir, direct)\n",
    "            count = len(os.listdir(class_dir))\n",
    "            total += count\n",
    "            txt += f\"{direct}: {count} files\\n\"\n",
    "    txt += f\"TOTAL: {total}\"\n",
    "    print(txt)\n",
    "\n",
    "def create_test_dirs(base_dir, classes=['entertainment', 'business', 'sport', 'politics', 'tech']):\n",
    "    for cl in classes:\n",
    "        class_dir = os.path.join(base_dir, cl)\n",
    "        if not os.path.exists(class_dir):\n",
    "            os.makedirs(class_dir)\n",
    "        else:\n",
    "            print(f\"{class_dir} already exists\")\n",
    "        \n",
    "def random_split(base_dir_train, base_dir_test, \n",
    "                 classes=['entertainment', 'business', 'sport', 'politics', 'tech'], run=False):\n",
    "    # Move random splitted files to the test directory\n",
    "    if run:\n",
    "        for cl in classes:\n",
    "            class_dir = os.path.join(base_dir_train, cl)\n",
    "            files = os.listdir(class_dir)\n",
    "            train, test = train_test_split(files, test_size=0.1, random_state=20)\n",
    "            for f in test:\n",
    "                old_path = os.path.join(class_dir, f)\n",
    "                new_path = os.path.join(base_dir_test, cl, f)\n",
    "                os.rename(old_path, new_path)\"\"\""
   ]
  },
  {
   "cell_type": "code",
   "execution_count": 3,
   "id": "bdf956f0",
   "metadata": {},
   "outputs": [
    {
     "name": "stdout",
     "output_type": "stream",
     "text": [
      "Files in /Users/wojciechzyla/Desktop/AGH/praca_inz/praca_inzynierska/bbc-text/train\n",
      "entertainment: 347 files\n",
      "business: 459 files\n",
      "sport: 459 files\n",
      "politics: 375 files\n",
      "tech: 360 files\n",
      "TOTAL: 2000\n"
     ]
    }
   ],
   "source": [
    "\"\"\"current_dir = os.getcwd()\n",
    "train_data_base_dir = os.path.join(current_dir, 'bbc-text/train')\n",
    "test_data_base_dir = os.path.join(current_dir, 'bbc-text/test')\n",
    "\n",
    "number_of_files_in_dir(train_data_base_dir)\"\"\""
   ]
  },
  {
   "cell_type": "code",
   "execution_count": 4,
   "id": "0b190dc9",
   "metadata": {},
   "outputs": [
    {
     "name": "stdout",
     "output_type": "stream",
     "text": [
      "Files in /Users/wojciechzyla/Desktop/AGH/praca_inz/praca_inzynierska/bbc-text/test\n",
      "entertainment: 39 files\n",
      "business: 51 files\n",
      "sport: 52 files\n",
      "politics: 42 files\n",
      "tech: 41 files\n",
      "TOTAL: 225\n"
     ]
    }
   ],
   "source": [
    "\"\"\"number_of_files_in_dir(test_data_base_dir)\"\"\""
   ]
  },
  {
   "cell_type": "code",
   "execution_count": null,
   "id": "7a92eae4",
   "metadata": {},
   "outputs": [],
   "source": []
  }
 ],
 "metadata": {
  "kernelspec": {
   "display_name": "Python 3 (ipykernel)",
   "language": "python",
   "name": "python3"
  },
  "language_info": {
   "codemirror_mode": {
    "name": "ipython",
    "version": 3
   },
   "file_extension": ".py",
   "mimetype": "text/x-python",
   "name": "python",
   "nbconvert_exporter": "python",
   "pygments_lexer": "ipython3",
   "version": "3.8.0"
  }
 },
 "nbformat": 4,
 "nbformat_minor": 5
}
