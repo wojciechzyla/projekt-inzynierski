{
 "cells": [
  {
   "cell_type": "code",
   "execution_count": 1,
   "id": "ecc44afc",
   "metadata": {},
   "outputs": [
    {
     "name": "stderr",
     "output_type": "stream",
     "text": [
      "2022-12-12 00:40:07.564049: I tensorflow/core/platform/cpu_feature_guard.cc:193] This TensorFlow binary is optimized with oneAPI Deep Neural Network Library (oneDNN) to use the following CPU instructions in performance-critical operations:  AVX2 FMA\n",
      "To enable them in other operations, rebuild TensorFlow with the appropriate compiler flags.\n"
     ]
    }
   ],
   "source": [
    "import pandas as pd\n",
    "import os\n",
    "import sys\n",
    "module_path = os.path.abspath(os.path.join('..'))\n",
    "if module_path not in sys.path:\n",
    "    sys.path.append(module_path)\n",
    "from my_nlp_module.preprocessing import PrepOption, preprocess_klej\n",
    "from sklearn.decomposition import TruncatedSVD, PCA\n",
    "from my_nlp_module.metrics import Metrics\n",
    "from sklearn.feature_extraction.text import TfidfVectorizer\n",
    "from sklearn.model_selection import train_test_split, GridSearchCV\n",
    "from sklearn.svm import SVC\n",
    "from sklearn.tree import DecisionTreeClassifier\n",
    "import numpy as np\n",
    "import gc\n",
    "import os\n",
    "import matplotlib.pyplot as plt"
   ]
  },
  {
   "cell_type": "code",
   "execution_count": 2,
   "id": "837751b6",
   "metadata": {},
   "outputs": [
    {
     "name": "stderr",
     "output_type": "stream",
     "text": [
      "Loading: 100%|██████████████| 11368252/11368252 [00:09<00:00, 1166503.27bytes/s]\n",
      "Loading: 100%|██████████████| 11368252/11368252 [00:08<00:00, 1348152.22bytes/s]\n"
     ]
    },
    {
     "name": "stdout",
     "output_type": "stream",
     "text": [
      "zbiór treningowy: rating\n",
      "0.0    1733\n",
      "1.0    1069\n",
      "2.0    1208\n",
      "3.0    1644\n",
      "4.0    3923\n",
      "Name: rating, dtype: int64\n",
      "zbiór testowy: rating\n",
      "0.0    209\n",
      "1.0    118\n",
      "2.0    138\n",
      "3.0    201\n",
      "4.0    336\n",
      "Name: rating, dtype: int64\n"
     ]
    }
   ],
   "source": [
    "train_path = '../datasets/klej_ar/train.tsv'\n",
    "dev_path = '../datasets/klej_ar/dev.tsv'\n",
    "\n",
    "df_train = pd.read_csv(train_path, sep='\\t')\n",
    "df_train = df_train.sample(frac=1, axis=0).reset_index(drop=True)\n",
    "\n",
    "df_test = pd.read_csv(dev_path, sep='\\t')\n",
    "df_test = df_test.sample(frac=1, axis=0).reset_index(drop=True)\n",
    "\n",
    "# Poniżej należy odkomentować testowany zestaw wstępnego przetwarzania\n",
    "\n",
    "#options = [PrepOption.STOPWORDS, PrepOption.LOWERCASE, PrepOption.STEM,\n",
    "#           PrepOption.NUMBERS, PrepOption.RUBBISH, PrepOption.INTERPUNCTION]\n",
    "options = [PrepOption.NUMBERS, PrepOption.RUBBISH, PrepOption.INTERPUNCTION]\n",
    "\n",
    "df_train = preprocess_klej(df_train, options, \"../my_nlp_module/polish_stopwords.txt\")\n",
    "df_train['rating'] = df_train['rating'].apply(lambda x: x-1)\n",
    "\n",
    "df_test = preprocess_klej(df_test, options, \"../my_nlp_module/polish_stopwords.txt\")\n",
    "df_test['rating'] = df_test['rating'].apply(lambda x: x-1)\n",
    "\n",
    "\n",
    "print(f\"zbiór treningowy: {df_train.groupby(['rating'])['rating'].count()}\")\n",
    "print(f\"zbiór testowy: {df_test.groupby(['rating'])['rating'].count()}\")"
   ]
  },
  {
   "cell_type": "code",
   "execution_count": 3,
   "id": "8049d810",
   "metadata": {},
   "outputs": [
    {
     "data": {
      "text/plain": [
       "'Plusy Podpinasz i odrazu działa Kompatybilny z Ubunu Windows oraz SX nie mam pewnosci co do osx bo nie posiadam ale na ubuntu smiga az milo mam avermedia lgp lite i nie ma sterownikow pod linuxa latwa obsluga dziala jako kamerka internetowa usb obsluguje upscalling mozliwosc zmiany ustawien kamerki tj jasnosc kontrast nasycenie itp lekkie opoznienie albo jego brak narazie urzadzenie mam dni i zauwazylem brak opoznienia Minusy Nie wspiera Mirilis action Przy rozdzielczosci jest mniej niz klatek gdyz w programie ustawione na w obsie wszystko dziala jak nalezy osobny program oraz aktualne sterowniki avermedia ma recentral elgato ma swoj wiec august powinien miec swoj tez Polecam ten produkt dla początkujących steamerow oraz osób nagrywających gdyz posiada wiele funkcji podobnych do drozszych typu rejestratotow obrazu mowiac w skrocie elgato avermedia w mojej avermedii lgp lite max jest fps a tu dostajemy '"
      ]
     },
     "execution_count": 3,
     "metadata": {},
     "output_type": "execute_result"
    }
   ],
   "source": [
    "df_train[\"text\"].iloc[89]"
   ]
  },
  {
   "cell_type": "code",
   "execution_count": 4,
   "id": "3a58850d",
   "metadata": {},
   "outputs": [],
   "source": [
    "y_train = np.array(df_train['rating'])\n",
    "y_test = np.array(df_test['rating'])\n",
    "\n",
    "vectorizer = TfidfVectorizer(max_features=5000)\n",
    "x_train = vectorizer.fit_transform(df_train['text'])\n",
    "x_test = vectorizer.transform(df_test['text'])"
   ]
  },
  {
   "cell_type": "code",
   "execution_count": 5,
   "id": "a135ec95",
   "metadata": {},
   "outputs": [
    {
     "data": {
      "text/plain": [
       "(9577, 5000)"
      ]
     },
     "execution_count": 5,
     "metadata": {},
     "output_type": "execute_result"
    }
   ],
   "source": [
    "x_train.shape"
   ]
  },
  {
   "cell_type": "code",
   "execution_count": 6,
   "id": "e532ca11",
   "metadata": {},
   "outputs": [
    {
     "name": "stdout",
     "output_type": "stream",
     "text": [
      "Fitting 5 folds for each of 6 candidates, totalling 30 fits\n",
      "[CV 1/5] END ......C=0.1, degree=3, kernel=poly;, score=0.409 total time=  45.5s\n",
      "[CV 2/5] END ......C=0.1, degree=3, kernel=poly;, score=0.409 total time=  45.7s\n",
      "[CV 3/5] END ......C=0.1, degree=3, kernel=poly;, score=0.410 total time=  45.8s\n",
      "[CV 4/5] END ......C=0.1, degree=3, kernel=poly;, score=0.410 total time=  45.5s\n",
      "[CV 5/5] END ......C=0.1, degree=3, kernel=poly;, score=0.410 total time=  45.6s\n",
      "[CV 1/5] END .......C=0.1, degree=3, kernel=rbf;, score=0.409 total time=  44.6s\n",
      "[CV 2/5] END .......C=0.1, degree=3, kernel=rbf;, score=0.409 total time=  43.6s\n",
      "[CV 3/5] END .......C=0.1, degree=3, kernel=rbf;, score=0.410 total time=  44.1s\n",
      "[CV 4/5] END .......C=0.1, degree=3, kernel=rbf;, score=0.410 total time=  44.9s\n",
      "[CV 5/5] END .......C=0.1, degree=3, kernel=rbf;, score=0.410 total time=  42.9s\n",
      "[CV 1/5] END ........C=1, degree=3, kernel=poly;, score=0.426 total time=  47.3s\n",
      "[CV 2/5] END ........C=1, degree=3, kernel=poly;, score=0.424 total time=  48.4s\n",
      "[CV 3/5] END ........C=1, degree=3, kernel=poly;, score=0.428 total time=  48.8s\n",
      "[CV 4/5] END ........C=1, degree=3, kernel=poly;, score=0.427 total time=  47.8s\n",
      "[CV 5/5] END ........C=1, degree=3, kernel=poly;, score=0.426 total time=  48.0s\n",
      "[CV 1/5] END .........C=1, degree=3, kernel=rbf;, score=0.584 total time=  44.4s\n",
      "[CV 2/5] END .........C=1, degree=3, kernel=rbf;, score=0.564 total time=  44.9s\n",
      "[CV 3/5] END .........C=1, degree=3, kernel=rbf;, score=0.580 total time=  45.1s\n",
      "[CV 4/5] END .........C=1, degree=3, kernel=rbf;, score=0.578 total time=  44.4s\n",
      "[CV 5/5] END .........C=1, degree=3, kernel=rbf;, score=0.595 total time=  45.2s\n",
      "[CV 1/5] END .......C=10, degree=3, kernel=poly;, score=0.422 total time=  50.4s\n",
      "[CV 2/5] END .......C=10, degree=3, kernel=poly;, score=0.419 total time=  50.1s\n",
      "[CV 3/5] END .......C=10, degree=3, kernel=poly;, score=0.422 total time=  50.1s\n",
      "[CV 4/5] END .......C=10, degree=3, kernel=poly;, score=0.424 total time=  49.9s\n",
      "[CV 5/5] END .......C=10, degree=3, kernel=poly;, score=0.425 total time=  49.9s\n",
      "[CV 1/5] END ........C=10, degree=3, kernel=rbf;, score=0.589 total time=  47.7s\n",
      "[CV 2/5] END ........C=10, degree=3, kernel=rbf;, score=0.569 total time=  48.1s\n",
      "[CV 3/5] END ........C=10, degree=3, kernel=rbf;, score=0.590 total time=  47.8s\n",
      "[CV 4/5] END ........C=10, degree=3, kernel=rbf;, score=0.580 total time=  46.8s\n",
      "[CV 5/5] END ........C=10, degree=3, kernel=rbf;, score=0.589 total time=  46.8s\n"
     ]
    },
    {
     "data": {
      "text/html": [
       "<style>#sk-container-id-1 {color: black;background-color: white;}#sk-container-id-1 pre{padding: 0;}#sk-container-id-1 div.sk-toggleable {background-color: white;}#sk-container-id-1 label.sk-toggleable__label {cursor: pointer;display: block;width: 100%;margin-bottom: 0;padding: 0.3em;box-sizing: border-box;text-align: center;}#sk-container-id-1 label.sk-toggleable__label-arrow:before {content: \"▸\";float: left;margin-right: 0.25em;color: #696969;}#sk-container-id-1 label.sk-toggleable__label-arrow:hover:before {color: black;}#sk-container-id-1 div.sk-estimator:hover label.sk-toggleable__label-arrow:before {color: black;}#sk-container-id-1 div.sk-toggleable__content {max-height: 0;max-width: 0;overflow: hidden;text-align: left;background-color: #f0f8ff;}#sk-container-id-1 div.sk-toggleable__content pre {margin: 0.2em;color: black;border-radius: 0.25em;background-color: #f0f8ff;}#sk-container-id-1 input.sk-toggleable__control:checked~div.sk-toggleable__content {max-height: 200px;max-width: 100%;overflow: auto;}#sk-container-id-1 input.sk-toggleable__control:checked~label.sk-toggleable__label-arrow:before {content: \"▾\";}#sk-container-id-1 div.sk-estimator input.sk-toggleable__control:checked~label.sk-toggleable__label {background-color: #d4ebff;}#sk-container-id-1 div.sk-label input.sk-toggleable__control:checked~label.sk-toggleable__label {background-color: #d4ebff;}#sk-container-id-1 input.sk-hidden--visually {border: 0;clip: rect(1px 1px 1px 1px);clip: rect(1px, 1px, 1px, 1px);height: 1px;margin: -1px;overflow: hidden;padding: 0;position: absolute;width: 1px;}#sk-container-id-1 div.sk-estimator {font-family: monospace;background-color: #f0f8ff;border: 1px dotted black;border-radius: 0.25em;box-sizing: border-box;margin-bottom: 0.5em;}#sk-container-id-1 div.sk-estimator:hover {background-color: #d4ebff;}#sk-container-id-1 div.sk-parallel-item::after {content: \"\";width: 100%;border-bottom: 1px solid gray;flex-grow: 1;}#sk-container-id-1 div.sk-label:hover label.sk-toggleable__label {background-color: #d4ebff;}#sk-container-id-1 div.sk-serial::before {content: \"\";position: absolute;border-left: 1px solid gray;box-sizing: border-box;top: 0;bottom: 0;left: 50%;z-index: 0;}#sk-container-id-1 div.sk-serial {display: flex;flex-direction: column;align-items: center;background-color: white;padding-right: 0.2em;padding-left: 0.2em;position: relative;}#sk-container-id-1 div.sk-item {position: relative;z-index: 1;}#sk-container-id-1 div.sk-parallel {display: flex;align-items: stretch;justify-content: center;background-color: white;position: relative;}#sk-container-id-1 div.sk-item::before, #sk-container-id-1 div.sk-parallel-item::before {content: \"\";position: absolute;border-left: 1px solid gray;box-sizing: border-box;top: 0;bottom: 0;left: 50%;z-index: -1;}#sk-container-id-1 div.sk-parallel-item {display: flex;flex-direction: column;z-index: 1;position: relative;background-color: white;}#sk-container-id-1 div.sk-parallel-item:first-child::after {align-self: flex-end;width: 50%;}#sk-container-id-1 div.sk-parallel-item:last-child::after {align-self: flex-start;width: 50%;}#sk-container-id-1 div.sk-parallel-item:only-child::after {width: 0;}#sk-container-id-1 div.sk-dashed-wrapped {border: 1px dashed gray;margin: 0 0.4em 0.5em 0.4em;box-sizing: border-box;padding-bottom: 0.4em;background-color: white;}#sk-container-id-1 div.sk-label label {font-family: monospace;font-weight: bold;display: inline-block;line-height: 1.2em;}#sk-container-id-1 div.sk-label-container {text-align: center;}#sk-container-id-1 div.sk-container {/* jupyter's `normalize.less` sets `[hidden] { display: none; }` but bootstrap.min.css set `[hidden] { display: none !important; }` so we also need the `!important` here to be able to override the default hidden behavior on the sphinx rendered scikit-learn.org. See: https://github.com/scikit-learn/scikit-learn/issues/21755 */display: inline-block !important;position: relative;}#sk-container-id-1 div.sk-text-repr-fallback {display: none;}</style><div id=\"sk-container-id-1\" class=\"sk-top-container\"><div class=\"sk-text-repr-fallback\"><pre>GridSearchCV(estimator=SVC(),\n",
       "             param_grid={&#x27;C&#x27;: [0.1, 1, 10], &#x27;degree&#x27;: [3],\n",
       "                         &#x27;kernel&#x27;: [&#x27;poly&#x27;, &#x27;rbf&#x27;]},\n",
       "             scoring=&#x27;accuracy&#x27;, verbose=3)</pre><b>In a Jupyter environment, please rerun this cell to show the HTML representation or trust the notebook. <br />On GitHub, the HTML representation is unable to render, please try loading this page with nbviewer.org.</b></div><div class=\"sk-container\" hidden><div class=\"sk-item sk-dashed-wrapped\"><div class=\"sk-label-container\"><div class=\"sk-label sk-toggleable\"><input class=\"sk-toggleable__control sk-hidden--visually\" id=\"sk-estimator-id-1\" type=\"checkbox\" ><label for=\"sk-estimator-id-1\" class=\"sk-toggleable__label sk-toggleable__label-arrow\">GridSearchCV</label><div class=\"sk-toggleable__content\"><pre>GridSearchCV(estimator=SVC(),\n",
       "             param_grid={&#x27;C&#x27;: [0.1, 1, 10], &#x27;degree&#x27;: [3],\n",
       "                         &#x27;kernel&#x27;: [&#x27;poly&#x27;, &#x27;rbf&#x27;]},\n",
       "             scoring=&#x27;accuracy&#x27;, verbose=3)</pre></div></div></div><div class=\"sk-parallel\"><div class=\"sk-parallel-item\"><div class=\"sk-item\"><div class=\"sk-label-container\"><div class=\"sk-label sk-toggleable\"><input class=\"sk-toggleable__control sk-hidden--visually\" id=\"sk-estimator-id-2\" type=\"checkbox\" ><label for=\"sk-estimator-id-2\" class=\"sk-toggleable__label sk-toggleable__label-arrow\">estimator: SVC</label><div class=\"sk-toggleable__content\"><pre>SVC()</pre></div></div></div><div class=\"sk-serial\"><div class=\"sk-item\"><div class=\"sk-estimator sk-toggleable\"><input class=\"sk-toggleable__control sk-hidden--visually\" id=\"sk-estimator-id-3\" type=\"checkbox\" ><label for=\"sk-estimator-id-3\" class=\"sk-toggleable__label sk-toggleable__label-arrow\">SVC</label><div class=\"sk-toggleable__content\"><pre>SVC()</pre></div></div></div></div></div></div></div></div></div></div>"
      ],
      "text/plain": [
       "GridSearchCV(estimator=SVC(),\n",
       "             param_grid={'C': [0.1, 1, 10], 'degree': [3],\n",
       "                         'kernel': ['poly', 'rbf']},\n",
       "             scoring='accuracy', verbose=3)"
      ]
     },
     "execution_count": 6,
     "metadata": {},
     "output_type": "execute_result"
    }
   ],
   "source": [
    "parameters = {'kernel':['poly', 'rbf'], 'C':[0.1, 1, 10], 'degree':[3]}\n",
    "svc = SVC()\n",
    "svc_grid = GridSearchCV(svc, parameters, scoring='accuracy', verbose=3)\n",
    "svc_grid.fit(x_train,y_train)\n"
   ]
  },
  {
   "cell_type": "code",
   "execution_count": 7,
   "id": "196491ab",
   "metadata": {},
   "outputs": [
    {
     "name": "stdout",
     "output_type": "stream",
     "text": [
      "Najlepsze znalezione parametry dla SVC:\n",
      "{'C': 10, 'degree': 3, 'kernel': 'rbf'}\n",
      "\n",
      "Wynik na zbiorze treningowym dla SVC: 0.5833776852341421\n",
      "\n",
      "Metryki dla zbioru testowego dla klasyfikatora SVC\n",
      "Dokładność: 0.5518962075848304\n",
      "Precyzja: [0.58671587 0.33333333 0.27272727 0.484375   0.62076271]\n",
      "Czułość: [0.76076555 0.15254237 0.15217391 0.30845771 0.87202381]\n",
      "F1: [0.6625     0.20930233 0.19534884 0.3768997  0.72524752]\n",
      "[[159  14  16   3  17]\n",
      " [ 58  18  17  12  13]\n",
      " [ 34  14  21  27  42]\n",
      " [  9   7  16  62 107]\n",
      " [ 11   1   7  24 293]]\n",
      "╒═══════╤═══════╤═══════╤═══════╤═══════╕\n",
      "│ 0.587 │ 0.333 │ 0.273 │ 0.484 │ 0.621 │\n",
      "├───────┼───────┼───────┼───────┼───────┤\n",
      "│ 0.761 │ 0.153 │ 0.152 │ 0.308 │ 0.872 │\n",
      "├───────┼───────┼───────┼───────┼───────┤\n",
      "│ 0.662 │ 0.209 │ 0.195 │ 0.377 │ 0.725 │\n",
      "╘═══════╧═══════╧═══════╧═══════╧═══════╛\n",
      "Dokładność: 0.552\n",
      "preprocessing: [<PrepOption.NUMBERS: 7>, <PrepOption.RUBBISH: 6>, <PrepOption.INTERPUNCTION: 4>]\n"
     ]
    }
   ],
   "source": [
    "def predict_function(model, x):\n",
    "    return model.predict(x)\n",
    "\n",
    "svc_classifier = svc_grid.best_estimator_\n",
    "best_svc_params = svc_grid.best_params_\n",
    "svc_train_score = svc_grid.best_score_\n",
    "\n",
    "print(f\"Najlepsze znalezione parametry dla SVC:\\n{best_svc_params}\\n\\n\"\\\n",
    "     f\"Wynik na zbiorze treningowym dla SVC: {svc_train_score}\\n\")\n",
    "\n",
    "\n",
    "metrics = Metrics(svc_classifier, predict_function)\n",
    "print(\"Metryki dla zbioru testowego dla klasyfikatora SVC\")\n",
    "_ = metrics.accuracy(x_test, y_test)\n",
    "_ = metrics.precision(x_test, y_test)\n",
    "_ = metrics.recall(x_test, y_test)\n",
    "_ = metrics.f1(x_test, y_test)\n",
    "\n",
    "metrics.print_confusion_matrix(x_test, y_test)\n",
    "metrics.print_metrics(x_test, y_test)\n",
    "\n",
    "print(f\"preprocessing: {options}\")"
   ]
  },
  {
   "cell_type": "code",
   "execution_count": 8,
   "id": "4c8779b6",
   "metadata": {},
   "outputs": [
    {
     "name": "stdout",
     "output_type": "stream",
     "text": [
      "Fitting 5 folds for each of 4 candidates, totalling 20 fits\n",
      "[CV 1/5] END .criterion=gini, max_features=None;, score=0.441 total time=   2.2s\n",
      "[CV 2/5] END .criterion=gini, max_features=None;, score=0.415 total time=   2.2s\n",
      "[CV 3/5] END .criterion=gini, max_features=None;, score=0.429 total time=   2.2s\n",
      "[CV 4/5] END .criterion=gini, max_features=None;, score=0.404 total time=   2.2s\n",
      "[CV 5/5] END .criterion=gini, max_features=None;, score=0.423 total time=   2.2s\n",
      "[CV 1/5] END .criterion=gini, max_features=sqrt;, score=0.396 total time=   0.1s\n",
      "[CV 2/5] END .criterion=gini, max_features=sqrt;, score=0.391 total time=   0.1s\n",
      "[CV 3/5] END .criterion=gini, max_features=sqrt;, score=0.382 total time=   0.1s\n",
      "[CV 4/5] END .criterion=gini, max_features=sqrt;, score=0.412 total time=   0.1s\n",
      "[CV 5/5] END .criterion=gini, max_features=sqrt;, score=0.390 total time=   0.1s\n",
      "[CV 1/5] END criterion=entropy, max_features=None;, score=0.390 total time=   2.4s\n",
      "[CV 2/5] END criterion=entropy, max_features=None;, score=0.387 total time=   2.3s\n",
      "[CV 3/5] END criterion=entropy, max_features=None;, score=0.418 total time=   2.5s\n",
      "[CV 4/5] END criterion=entropy, max_features=None;, score=0.399 total time=   2.4s\n",
      "[CV 5/5] END criterion=entropy, max_features=None;, score=0.414 total time=   2.5s\n",
      "[CV 1/5] END criterion=entropy, max_features=sqrt;, score=0.392 total time=   0.1s\n",
      "[CV 2/5] END criterion=entropy, max_features=sqrt;, score=0.384 total time=   0.1s\n",
      "[CV 3/5] END criterion=entropy, max_features=sqrt;, score=0.391 total time=   0.1s\n",
      "[CV 4/5] END criterion=entropy, max_features=sqrt;, score=0.402 total time=   0.1s\n",
      "[CV 5/5] END criterion=entropy, max_features=sqrt;, score=0.385 total time=   0.1s\n"
     ]
    },
    {
     "data": {
      "text/html": [
       "<style>#sk-container-id-2 {color: black;background-color: white;}#sk-container-id-2 pre{padding: 0;}#sk-container-id-2 div.sk-toggleable {background-color: white;}#sk-container-id-2 label.sk-toggleable__label {cursor: pointer;display: block;width: 100%;margin-bottom: 0;padding: 0.3em;box-sizing: border-box;text-align: center;}#sk-container-id-2 label.sk-toggleable__label-arrow:before {content: \"▸\";float: left;margin-right: 0.25em;color: #696969;}#sk-container-id-2 label.sk-toggleable__label-arrow:hover:before {color: black;}#sk-container-id-2 div.sk-estimator:hover label.sk-toggleable__label-arrow:before {color: black;}#sk-container-id-2 div.sk-toggleable__content {max-height: 0;max-width: 0;overflow: hidden;text-align: left;background-color: #f0f8ff;}#sk-container-id-2 div.sk-toggleable__content pre {margin: 0.2em;color: black;border-radius: 0.25em;background-color: #f0f8ff;}#sk-container-id-2 input.sk-toggleable__control:checked~div.sk-toggleable__content {max-height: 200px;max-width: 100%;overflow: auto;}#sk-container-id-2 input.sk-toggleable__control:checked~label.sk-toggleable__label-arrow:before {content: \"▾\";}#sk-container-id-2 div.sk-estimator input.sk-toggleable__control:checked~label.sk-toggleable__label {background-color: #d4ebff;}#sk-container-id-2 div.sk-label input.sk-toggleable__control:checked~label.sk-toggleable__label {background-color: #d4ebff;}#sk-container-id-2 input.sk-hidden--visually {border: 0;clip: rect(1px 1px 1px 1px);clip: rect(1px, 1px, 1px, 1px);height: 1px;margin: -1px;overflow: hidden;padding: 0;position: absolute;width: 1px;}#sk-container-id-2 div.sk-estimator {font-family: monospace;background-color: #f0f8ff;border: 1px dotted black;border-radius: 0.25em;box-sizing: border-box;margin-bottom: 0.5em;}#sk-container-id-2 div.sk-estimator:hover {background-color: #d4ebff;}#sk-container-id-2 div.sk-parallel-item::after {content: \"\";width: 100%;border-bottom: 1px solid gray;flex-grow: 1;}#sk-container-id-2 div.sk-label:hover label.sk-toggleable__label {background-color: #d4ebff;}#sk-container-id-2 div.sk-serial::before {content: \"\";position: absolute;border-left: 1px solid gray;box-sizing: border-box;top: 0;bottom: 0;left: 50%;z-index: 0;}#sk-container-id-2 div.sk-serial {display: flex;flex-direction: column;align-items: center;background-color: white;padding-right: 0.2em;padding-left: 0.2em;position: relative;}#sk-container-id-2 div.sk-item {position: relative;z-index: 1;}#sk-container-id-2 div.sk-parallel {display: flex;align-items: stretch;justify-content: center;background-color: white;position: relative;}#sk-container-id-2 div.sk-item::before, #sk-container-id-2 div.sk-parallel-item::before {content: \"\";position: absolute;border-left: 1px solid gray;box-sizing: border-box;top: 0;bottom: 0;left: 50%;z-index: -1;}#sk-container-id-2 div.sk-parallel-item {display: flex;flex-direction: column;z-index: 1;position: relative;background-color: white;}#sk-container-id-2 div.sk-parallel-item:first-child::after {align-self: flex-end;width: 50%;}#sk-container-id-2 div.sk-parallel-item:last-child::after {align-self: flex-start;width: 50%;}#sk-container-id-2 div.sk-parallel-item:only-child::after {width: 0;}#sk-container-id-2 div.sk-dashed-wrapped {border: 1px dashed gray;margin: 0 0.4em 0.5em 0.4em;box-sizing: border-box;padding-bottom: 0.4em;background-color: white;}#sk-container-id-2 div.sk-label label {font-family: monospace;font-weight: bold;display: inline-block;line-height: 1.2em;}#sk-container-id-2 div.sk-label-container {text-align: center;}#sk-container-id-2 div.sk-container {/* jupyter's `normalize.less` sets `[hidden] { display: none; }` but bootstrap.min.css set `[hidden] { display: none !important; }` so we also need the `!important` here to be able to override the default hidden behavior on the sphinx rendered scikit-learn.org. See: https://github.com/scikit-learn/scikit-learn/issues/21755 */display: inline-block !important;position: relative;}#sk-container-id-2 div.sk-text-repr-fallback {display: none;}</style><div id=\"sk-container-id-2\" class=\"sk-top-container\"><div class=\"sk-text-repr-fallback\"><pre>GridSearchCV(estimator=DecisionTreeClassifier(),\n",
       "             param_grid={&#x27;criterion&#x27;: [&#x27;gini&#x27;, &#x27;entropy&#x27;],\n",
       "                         &#x27;max_features&#x27;: [None, &#x27;sqrt&#x27;]},\n",
       "             scoring=&#x27;accuracy&#x27;, verbose=3)</pre><b>In a Jupyter environment, please rerun this cell to show the HTML representation or trust the notebook. <br />On GitHub, the HTML representation is unable to render, please try loading this page with nbviewer.org.</b></div><div class=\"sk-container\" hidden><div class=\"sk-item sk-dashed-wrapped\"><div class=\"sk-label-container\"><div class=\"sk-label sk-toggleable\"><input class=\"sk-toggleable__control sk-hidden--visually\" id=\"sk-estimator-id-4\" type=\"checkbox\" ><label for=\"sk-estimator-id-4\" class=\"sk-toggleable__label sk-toggleable__label-arrow\">GridSearchCV</label><div class=\"sk-toggleable__content\"><pre>GridSearchCV(estimator=DecisionTreeClassifier(),\n",
       "             param_grid={&#x27;criterion&#x27;: [&#x27;gini&#x27;, &#x27;entropy&#x27;],\n",
       "                         &#x27;max_features&#x27;: [None, &#x27;sqrt&#x27;]},\n",
       "             scoring=&#x27;accuracy&#x27;, verbose=3)</pre></div></div></div><div class=\"sk-parallel\"><div class=\"sk-parallel-item\"><div class=\"sk-item\"><div class=\"sk-label-container\"><div class=\"sk-label sk-toggleable\"><input class=\"sk-toggleable__control sk-hidden--visually\" id=\"sk-estimator-id-5\" type=\"checkbox\" ><label for=\"sk-estimator-id-5\" class=\"sk-toggleable__label sk-toggleable__label-arrow\">estimator: DecisionTreeClassifier</label><div class=\"sk-toggleable__content\"><pre>DecisionTreeClassifier()</pre></div></div></div><div class=\"sk-serial\"><div class=\"sk-item\"><div class=\"sk-estimator sk-toggleable\"><input class=\"sk-toggleable__control sk-hidden--visually\" id=\"sk-estimator-id-6\" type=\"checkbox\" ><label for=\"sk-estimator-id-6\" class=\"sk-toggleable__label sk-toggleable__label-arrow\">DecisionTreeClassifier</label><div class=\"sk-toggleable__content\"><pre>DecisionTreeClassifier()</pre></div></div></div></div></div></div></div></div></div></div>"
      ],
      "text/plain": [
       "GridSearchCV(estimator=DecisionTreeClassifier(),\n",
       "             param_grid={'criterion': ['gini', 'entropy'],\n",
       "                         'max_features': [None, 'sqrt']},\n",
       "             scoring='accuracy', verbose=3)"
      ]
     },
     "execution_count": 8,
     "metadata": {},
     "output_type": "execute_result"
    }
   ],
   "source": [
    "parameters = {'criterion':['gini', 'entropy'], 'max_features':[None, \"sqrt\"]}\n",
    "tree = DecisionTreeClassifier()\n",
    "tree_grid = GridSearchCV(tree, parameters, scoring='accuracy', verbose=3)\n",
    "tree_grid.fit(x_train,y_train)"
   ]
  },
  {
   "cell_type": "code",
   "execution_count": 9,
   "id": "6db3d1af",
   "metadata": {},
   "outputs": [
    {
     "name": "stdout",
     "output_type": "stream",
     "text": [
      "Najlepsze znalezione parametry dla drzewa decyzyjnego:\n",
      "{'criterion': 'gini', 'max_features': None}\n",
      "\n",
      "Wynik na zbiorze treningowym dla drzewa decyzyjnego: 0.4221560910731125\n",
      "Głębokość drzewa decyzyjnego: 84\n",
      "\n",
      "Metryki dla zbioru testowego dla drzewa decyzyjnego\n",
      "Dokładność: 0.3962075848303393\n",
      "Precyzja: [0.4213198  0.19191919 0.23255814 0.30463576 0.51408451]\n",
      "Czułość: [0.39712919 0.16101695 0.2173913  0.22885572 0.65178571]\n",
      "F1: [0.408867   0.17511521 0.2247191  0.26136364 0.57480315]\n",
      "[[ 83  29  26  26  45]\n",
      " [ 32  19  18  15  34]\n",
      " [ 32  12  30  21  43]\n",
      " [ 23  16  31  46  85]\n",
      " [ 27  23  24  43 219]]\n",
      "╒═══════╤═══════╤═══════╤═══════╤═══════╕\n",
      "│ 0.421 │ 0.192 │ 0.233 │ 0.305 │ 0.514 │\n",
      "├───────┼───────┼───────┼───────┼───────┤\n",
      "│ 0.397 │ 0.161 │ 0.217 │ 0.229 │ 0.652 │\n",
      "├───────┼───────┼───────┼───────┼───────┤\n",
      "│ 0.409 │ 0.175 │ 0.225 │ 0.261 │ 0.575 │\n",
      "╘═══════╧═══════╧═══════╧═══════╧═══════╛\n",
      "Dokładność: 0.396\n",
      "preprocessing: [<PrepOption.NUMBERS: 7>, <PrepOption.RUBBISH: 6>, <PrepOption.INTERPUNCTION: 4>]\n"
     ]
    }
   ],
   "source": [
    "tree_classifier = tree_grid.best_estimator_\n",
    "best_tree_params = tree_grid.best_params_\n",
    "tree_train_score = tree_grid.best_score_\n",
    "\n",
    "print(f\"Najlepsze znalezione parametry dla drzewa decyzyjnego:\\n{best_tree_params}\\n\\n\"\\\n",
    "     f\"Wynik na zbiorze treningowym dla drzewa decyzyjnego: {tree_train_score}\\n\"\\\n",
    "     f\"Głębokość drzewa decyzyjnego: {tree_classifier.get_depth()}\\n\")\n",
    "\n",
    "\n",
    "metrics = Metrics(tree_classifier, predict_function)\n",
    "print(\"Metryki dla zbioru testowego dla drzewa decyzyjnego\")\n",
    "_ = metrics.accuracy(x_test, y_test)\n",
    "_ = metrics.precision(x_test, y_test)\n",
    "_ = metrics.recall(x_test, y_test)\n",
    "_ = metrics.f1(x_test, y_test)\n",
    "\n",
    "metrics.print_confusion_matrix(x_test, y_test)\n",
    "metrics.print_metrics(x_test, y_test)\n",
    "\n",
    "print(f\"preprocessing: {options}\")"
   ]
  },
  {
   "cell_type": "code",
   "execution_count": null,
   "id": "6da8588c",
   "metadata": {},
   "outputs": [],
   "source": []
  }
 ],
 "metadata": {
  "kernelspec": {
   "display_name": "Python 3 (ipykernel)",
   "language": "python",
   "name": "python3"
  },
  "language_info": {
   "codemirror_mode": {
    "name": "ipython",
    "version": 3
   },
   "file_extension": ".py",
   "mimetype": "text/x-python",
   "name": "python",
   "nbconvert_exporter": "python",
   "pygments_lexer": "ipython3",
   "version": "3.8.0"
  }
 },
 "nbformat": 4,
 "nbformat_minor": 5
}
